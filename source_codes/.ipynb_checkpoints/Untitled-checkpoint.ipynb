{
 "cells": [
  {
   "cell_type": "markdown",
   "id": "cda21c3d",
   "metadata": {},
   "source": [
    "# Client Side"
   ]
  },
  {
   "cell_type": "markdown",
   "id": "c66f01a2",
   "metadata": {},
   "source": [
    "The utilization data is captured using the `psutil` library "
   ]
  },
  {
   "cell_type": "code",
   "execution_count": 2,
   "id": "ba466dff",
   "metadata": {},
   "outputs": [],
   "source": [
    "import psutil as ps"
   ]
  },
  {
   "cell_type": "markdown",
   "id": "2c617c01",
   "metadata": {},
   "source": [
    "## Node info"
   ]
  },
  {
   "cell_type": "markdown",
   "id": "825020ed",
   "metadata": {},
   "source": [
    "the Node utilization funtion of $Node_i$ is $C_i^N(t) = f_i^N(X_i^N,t) = \\bigg[ \\alpha_c \\big( fc_i(t)*nc_i(t)*uc_i(t) \\big) + \\alpha_m \\big( fm_i(t)*vm_i(t)*um_i(t) \\big) \\bigg]$, where the parameters are,\n",
    "\n",
    "| Resource | Node parameters | meaning |\n",
    "|---|---|---|\n",
    "|CPU| $fc_i(t)$ | max core frequency  |\n",
    "|| $nc_i(t)$ | number of logical core |\n",
    "|| $uc_i(t)$ | mean CPU utilization at time $t$ |\n",
    "|Memory| $fm_i(t)$ | max DRAM frequency |\n",
    "|| $vm_i(t)$ | RAM volume $t$ |\n",
    "|| $um_i(t)$ | mean RAM utilization at time $t$ |"
   ]
  },
  {
   "cell_type": "markdown",
   "id": "f36004bc",
   "metadata": {},
   "source": [
    "### CPU info"
   ]
  },
  {
   "cell_type": "code",
   "execution_count": 20,
   "id": "936b931d",
   "metadata": {},
   "outputs": [
    {
     "data": {
      "text/plain": [
       "8"
      ]
     },
     "execution_count": 20,
     "metadata": {},
     "output_type": "execute_result"
    }
   ],
   "source": [
    "# number of logical cpu cores\n",
    "ps.cpu_count(logical=True)"
   ]
  },
  {
   "cell_type": "code",
   "execution_count": 23,
   "id": "95a9e306",
   "metadata": {},
   "outputs": [
    {
     "data": {
      "text/plain": [
       "[scpufreq(current=4000.0, min=0.0, max=4001.0)]"
      ]
     },
     "execution_count": 23,
     "metadata": {},
     "output_type": "execute_result"
    }
   ],
   "source": [
    "# Max frequency \n",
    "ps.cpu_freq(percpu=True)"
   ]
  },
  {
   "cell_type": "code",
   "execution_count": 27,
   "id": "09b90dba",
   "metadata": {},
   "outputs": [
    {
     "data": {
      "text/plain": [
       "4001.0"
      ]
     },
     "execution_count": 27,
     "metadata": {},
     "output_type": "execute_result"
    }
   ],
   "source": [
    "ps.cpu_freq(percpu=True)[0][2]  # max freq"
   ]
  },
  {
   "cell_type": "code",
   "execution_count": 28,
   "id": "5095fac8",
   "metadata": {},
   "outputs": [
    {
     "data": {
      "text/plain": [
       "[6.2, 4.7, 9.4, 4.7, 6.2, 0.0, 9.4, 4.7]"
      ]
     },
     "execution_count": 28,
     "metadata": {},
     "output_type": "execute_result"
    }
   ],
   "source": [
    "# average utilization\n",
    "ps.cpu_percent(interval=1, percpu=True)"
   ]
  },
  {
   "cell_type": "code",
   "execution_count": 18,
   "id": "26af92e3",
   "metadata": {},
   "outputs": [
    {
     "data": {
      "text/plain": [
       "8.9875"
      ]
     },
     "execution_count": 18,
     "metadata": {},
     "output_type": "execute_result"
    }
   ],
   "source": [
    "round(sum(ps.cpu_percent(interval=1, percpu=True))/ps.cpu_count(),4)"
   ]
  },
  {
   "cell_type": "code",
   "execution_count": 37,
   "id": "85267760",
   "metadata": {},
   "outputs": [],
   "source": [
    "node_util = {\n",
    "    'cpu' : {\n",
    "        'util''per_core_util' : ps.cpu_percent(interval=1, percpu=True),\n",
    "        'freq': {\n",
    "            'current' : ps.cpu_freq(percpu=True)[0][0],\n",
    "            'min': ps.cpu_freq(percpu=True)[0][1],\n",
    "            'max': ps.cpu_freq(percpu=True)[0][2]\n",
    "        },\n",
    "        'core_count' : ps.cpu_count(),\n",
    "        'mean_util' : round(sum(ps.cpu_percent(interval=1, percpu=True))/ps.cpu_count(),4)\n",
    "    }\n",
    "}"
   ]
  },
  {
   "cell_type": "code",
   "execution_count": 38,
   "id": "87bad3c0",
   "metadata": {},
   "outputs": [
    {
     "data": {
      "text/plain": [
       "{'cpu': {'per_core_util': [3.1, 9.2, 16.9, 3.1, 9.2, 0.0, 1.6, 3.1],\n",
       "  'freq': {'current': 800.0, 'min': 0.0, 'max': 4001.0},\n",
       "  'core_count': 8,\n",
       "  'mean_util': 9.0}}"
      ]
     },
     "execution_count": 38,
     "metadata": {},
     "output_type": "execute_result"
    }
   ],
   "source": [
    "node_util"
   ]
  },
  {
   "cell_type": "markdown",
   "id": "8ae3a072",
   "metadata": {},
   "source": [
    "### Memory Info "
   ]
  },
  {
   "cell_type": "code",
   "execution_count": 35,
   "id": "cbe41ebd",
   "metadata": {},
   "outputs": [
    {
     "data": {
      "text/plain": [
       "svmem(total=34224590848, available=22259572736, percent=35.0, used=11965018112, free=22259572736)"
      ]
     },
     "execution_count": 35,
     "metadata": {},
     "output_type": "execute_result"
    }
   ],
   "source": [
    "ps.virtual_memory()"
   ]
  },
  {
   "cell_type": "code",
   "execution_count": null,
   "id": "e3491e8a",
   "metadata": {},
   "outputs": [],
   "source": []
  }
 ],
 "metadata": {
  "kernelspec": {
   "display_name": "Python 3",
   "language": "python",
   "name": "python3"
  },
  "language_info": {
   "codemirror_mode": {
    "name": "ipython",
    "version": 3
   },
   "file_extension": ".py",
   "mimetype": "text/x-python",
   "name": "python",
   "nbconvert_exporter": "python",
   "pygments_lexer": "ipython3",
   "version": "3.8.8"
  }
 },
 "nbformat": 4,
 "nbformat_minor": 5
}
