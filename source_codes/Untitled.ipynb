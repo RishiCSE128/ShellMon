{
 "cells": [
  {
   "cell_type": "markdown",
   "source": [
    "# Client Side"
   ],
   "metadata": {}
  },
  {
   "cell_type": "code",
   "execution_count": 2,
   "source": [
    "! pip install rssi\r\n",
    "! pip install psutil"
   ],
   "outputs": [
    {
     "output_type": "stream",
     "name": "stdout",
     "text": [
      "Requirement already satisfied: rssi in c:\\users\\sapta\\anaconda3\\lib\\site-packages (1.0.2)\n",
      "Requirement already satisfied: psutil in c:\\users\\sapta\\anaconda3\\lib\\site-packages (5.8.0)\n"
     ]
    }
   ],
   "metadata": {}
  },
  {
   "cell_type": "markdown",
   "source": [
    "The utilization data is captured using the `psutil` library "
   ],
   "metadata": {}
  },
  {
   "cell_type": "code",
   "execution_count": 3,
   "source": [
    "import psutil as ps\r\n",
    "import threading as th"
   ],
   "outputs": [],
   "metadata": {}
  },
  {
   "cell_type": "markdown",
   "source": [
    "## Node info"
   ],
   "metadata": {}
  },
  {
   "cell_type": "markdown",
   "source": [
    "the Node utilization funtion of $Node_i$ is $C_i^N(t) = f_i^N(X_i^N,t) = \\bigg[ \\alpha_c \\big( fc_i(t)*nc_i(t)*uc_i(t) \\big) + \\alpha_m \\big( fm_i(t)*vm_i(t)*um_i(t) \\big) \\bigg]$, where the parameters are,\n",
    "\n",
    "| Resource | Node parameters | meaning |\n",
    "|---|---|---|\n",
    "|CPU| $fc_i(t)$ | max core frequency  |\n",
    "|| $nc_i(t)$ | number of logical core |\n",
    "|| $uc_i(t)$ | mean CPU utilization at time $t$ |\n",
    "|Memory| $fm_i(t)$ | max DRAM frequency |\n",
    "|| $vm_i(t)$ | RAM volume $t$ |\n",
    "|| $um_i(t)$ | mean RAM utilization at time $t$ |"
   ],
   "metadata": {}
  },
  {
   "cell_type": "markdown",
   "source": [
    "### CPU info"
   ],
   "metadata": {}
  },
  {
   "cell_type": "code",
   "execution_count": 43,
   "source": [
    "import pprint\r\n",
    "pp =pprint.PrettyPrinter(indent=4)"
   ],
   "outputs": [],
   "metadata": {}
  },
  {
   "cell_type": "code",
   "execution_count": 4,
   "source": [
    "# number of logical cpu cores\r\n",
    "ps.cpu_count(logical=True)"
   ],
   "outputs": [
    {
     "output_type": "execute_result",
     "data": {
      "text/plain": [
       "8"
      ]
     },
     "metadata": {},
     "execution_count": 4
    }
   ],
   "metadata": {}
  },
  {
   "cell_type": "code",
   "execution_count": 5,
   "source": [
    "# Max frequency \r\n",
    "ps.cpu_freq(percpu=True)"
   ],
   "outputs": [
    {
     "output_type": "execute_result",
     "data": {
      "text/plain": [
       "[scpufreq(current=4000.0, min=0.0, max=4001.0)]"
      ]
     },
     "metadata": {},
     "execution_count": 5
    }
   ],
   "metadata": {}
  },
  {
   "cell_type": "code",
   "execution_count": 6,
   "source": [
    "ps.cpu_freq(percpu=True)[0][2]  # max freq"
   ],
   "outputs": [
    {
     "output_type": "execute_result",
     "data": {
      "text/plain": [
       "4001.0"
      ]
     },
     "metadata": {},
     "execution_count": 6
    }
   ],
   "metadata": {}
  },
  {
   "cell_type": "code",
   "execution_count": 7,
   "source": [
    "# average utilization\r\n",
    "ps.cpu_percent(interval=1, percpu=True)"
   ],
   "outputs": [
    {
     "output_type": "execute_result",
     "data": {
      "text/plain": [
       "[14.9, 9.2, 14.1, 6.2, 17.2, 3.1, 10.9, 15.6]"
      ]
     },
     "metadata": {},
     "execution_count": 7
    }
   ],
   "metadata": {}
  },
  {
   "cell_type": "code",
   "execution_count": 8,
   "source": [
    "round(sum(ps.cpu_percent(interval=1, percpu=True))/ps.cpu_count(),4)"
   ],
   "outputs": [
    {
     "output_type": "execute_result",
     "data": {
      "text/plain": [
       "11.825"
      ]
     },
     "metadata": {},
     "execution_count": 8
    }
   ],
   "metadata": {}
  },
  {
   "cell_type": "code",
   "execution_count": 9,
   "source": [
    "def get_cpu_freq():\r\n",
    "    temp = ps.cpu_freq(percpu=True)[0]\r\n",
    "    return {'current' :temp[0], 'min': temp[1], 'max': temp[2] }"
   ],
   "outputs": [],
   "metadata": {}
  },
  {
   "cell_type": "code",
   "execution_count": 10,
   "source": [
    "def get_cpu_util():\r\n",
    "    temp = ps.cpu_percent(interval=1, percpu=True)\r\n",
    "    return {'per_core_util' : temp, 'mean_util' : round(sum(temp)/len(temp) , 4)}"
   ],
   "outputs": [],
   "metadata": {}
  },
  {
   "cell_type": "code",
   "execution_count": 11,
   "source": [
    "%%time\r\n",
    "node_util = {\r\n",
    "    'cpu' : {\r\n",
    "        'util': get_cpu_util(),\r\n",
    "        'freq': get_cpu_freq(),\r\n",
    "        'core_count' : ps.cpu_count(),\r\n",
    "    }\r\n",
    "}"
   ],
   "outputs": [
    {
     "output_type": "stream",
     "name": "stdout",
     "text": [
      "Wall time: 1 s\n"
     ]
    }
   ],
   "metadata": {}
  },
  {
   "cell_type": "code",
   "execution_count": 44,
   "source": [
    "%%time\r\n",
    "pp.pprint(node_util)"
   ],
   "outputs": [
    {
     "output_type": "stream",
     "name": "stdout",
     "text": [
      "{   'cpu': {   'core_count': 8,\n",
      "               'freq': {'current': 1900.0, 'max': 4001.0, 'min': 0.0},\n",
      "               'util': {   'mean_util': 10.7,\n",
      "                           'per_core_util': [   20.9,\n",
      "                                                6.2,\n",
      "                                                15.4,\n",
      "                                                7.7,\n",
      "                                                16.9,\n",
      "                                                4.6,\n",
      "                                                6.2,\n",
      "                                                7.7]}},\n",
      "    'memory': {'total_mb': 32639.1133, 'util': 37.4}}\n",
      "Wall time: 996 µs\n"
     ]
    }
   ],
   "metadata": {}
  },
  {
   "cell_type": "markdown",
   "source": [
    "### Memory Info "
   ],
   "metadata": {}
  },
  {
   "cell_type": "code",
   "execution_count": 46,
   "source": [
    "ps.virtual_memory()"
   ],
   "outputs": [
    {
     "output_type": "execute_result",
     "data": {
      "text/plain": [
       "svmem(total=34224590848, available=21331185664, percent=37.7, used=12893405184, free=21331185664)"
      ]
     },
     "metadata": {},
     "execution_count": 46
    }
   ],
   "metadata": {}
  },
  {
   "cell_type": "code",
   "execution_count": 47,
   "source": [
    "def get_mem_info():\r\n",
    "    temp = ps.virtual_memory()\r\n",
    "    return {'total_mb': round(temp[0]/(1024*1024), 4), 'util':temp[2]}"
   ],
   "outputs": [],
   "metadata": {}
  },
  {
   "cell_type": "code",
   "execution_count": 48,
   "source": [
    "%%time\r\n",
    "node_util = {\r\n",
    "    'cpu' : {\r\n",
    "        'util': get_cpu_util(),\r\n",
    "        'freq': get_cpu_freq(),\r\n",
    "        'core_count' : ps.cpu_count(),\r\n",
    "    },\r\n",
    "    'memory': get_mem_info()\r\n",
    "}"
   ],
   "outputs": [
    {
     "output_type": "stream",
     "name": "stdout",
     "text": [
      "Wall time: 1 s\n"
     ]
    }
   ],
   "metadata": {}
  },
  {
   "cell_type": "code",
   "execution_count": 50,
   "source": [
    "pp.pprint(node_util)"
   ],
   "outputs": [
    {
     "output_type": "stream",
     "name": "stdout",
     "text": [
      "{   'cpu': {   'core_count': 8,\n",
      "               'freq': {'current': 800.0, 'max': 4001.0, 'min': 0.0},\n",
      "               'util': {   'mean_util': 9.9375,\n",
      "                           'per_core_util': [   10.8,\n",
      "                                                4.7,\n",
      "                                                17.2,\n",
      "                                                6.2,\n",
      "                                                14.1,\n",
      "                                                3.1,\n",
      "                                                6.2,\n",
      "                                                17.2]}},\n",
      "    'memory': {'total_mb': 32639.1133, 'util': 37.7}}\n"
     ]
    }
   ],
   "metadata": {}
  },
  {
   "cell_type": "markdown",
   "source": [
    "## Network "
   ],
   "metadata": {}
  },
  {
   "cell_type": "code",
   "execution_count": 17,
   "source": [
    "iface = 'Wi-Fi'"
   ],
   "outputs": [],
   "metadata": {}
  },
  {
   "cell_type": "code",
   "execution_count": 18,
   "source": [
    "ps.net_if_stats()"
   ],
   "outputs": [
    {
     "output_type": "execute_result",
     "data": {
      "text/plain": [
       "{'Ethernet': snicstats(isup=True, duplex=<NicDuplex.NIC_DUPLEX_FULL: 2>, speed=1000, mtu=1468),\n",
       " 'VMware Network Adapter VMnet1': snicstats(isup=True, duplex=<NicDuplex.NIC_DUPLEX_FULL: 2>, speed=100, mtu=1500),\n",
       " 'VMware Network Adapter VMnet8': snicstats(isup=True, duplex=<NicDuplex.NIC_DUPLEX_FULL: 2>, speed=100, mtu=1500),\n",
       " 'VirtualBox Host-Only Network': snicstats(isup=True, duplex=<NicDuplex.NIC_DUPLEX_FULL: 2>, speed=1000, mtu=1500),\n",
       " 'Loopback Pseudo-Interface 1': snicstats(isup=True, duplex=<NicDuplex.NIC_DUPLEX_FULL: 2>, speed=1073, mtu=1500),\n",
       " 'Wi-Fi': snicstats(isup=False, duplex=<NicDuplex.NIC_DUPLEX_FULL: 2>, speed=65, mtu=1500),\n",
       " 'Local Area Connection* 1': snicstats(isup=False, duplex=<NicDuplex.NIC_DUPLEX_FULL: 2>, speed=0, mtu=1500),\n",
       " 'Local Area Connection* 10': snicstats(isup=False, duplex=<NicDuplex.NIC_DUPLEX_FULL: 2>, speed=0, mtu=1500)}"
      ]
     },
     "metadata": {},
     "execution_count": 18
    }
   ],
   "metadata": {}
  },
  {
   "cell_type": "code",
   "execution_count": 19,
   "source": [
    "# getting the interface names only\r\n",
    "\r\n",
    "ps.net_if_stats().keys()"
   ],
   "outputs": [
    {
     "output_type": "execute_result",
     "data": {
      "text/plain": [
       "dict_keys(['Ethernet', 'VMware Network Adapter VMnet1', 'VMware Network Adapter VMnet8', 'VirtualBox Host-Only Network', 'Loopback Pseudo-Interface 1', 'Wi-Fi', 'Local Area Connection* 1', 'Local Area Connection* 10'])"
      ]
     },
     "metadata": {},
     "execution_count": 19
    }
   ],
   "metadata": {}
  },
  {
   "cell_type": "code",
   "execution_count": 24,
   "source": [
    "ps.net_if_stats()[iface]"
   ],
   "outputs": [
    {
     "output_type": "execute_result",
     "data": {
      "text/plain": [
       "snicstats(isup=True, duplex=<NicDuplex.NIC_DUPLEX_FULL: 2>, speed=1000, mtu=1468)"
      ]
     },
     "metadata": {},
     "execution_count": 24
    }
   ],
   "metadata": {}
  },
  {
   "cell_type": "code",
   "execution_count": 26,
   "source": [
    "# global ds to hold nic info\r\n",
    "nic_result={}"
   ],
   "outputs": [],
   "metadata": {}
  },
  {
   "cell_type": "code",
   "execution_count": 37,
   "source": [
    "# getting stats for all interfaces \r\n",
    "\r\n",
    "for iface in ps.net_if_stats().keys():\r\n",
    "    stat  = ps.net_if_stats()[iface]\r\n",
    "    nic_result[iface] = {\r\n",
    "        'state' : stat[0],\r\n",
    "        'duplex' : stat[1],\r\n",
    "         'speed' : stat[2],\r\n",
    "         'mtu': stat[3]\r\n",
    "    }"
   ],
   "outputs": [],
   "metadata": {}
  },
  {
   "cell_type": "code",
   "execution_count": 51,
   "source": [
    "pp.pprint(nic_result)"
   ],
   "outputs": [
    {
     "output_type": "stream",
     "name": "stdout",
     "text": [
      "{   'Ethernet': {   'addr': {   'ip4': '10.33.30.201',\n",
      "                                'mac': '38-D5-47-0F-78-22',\n",
      "                                'mask': '255.255.254.0'},\n",
      "                    'stats': {   'duplex': <NicDuplex.NIC_DUPLEX_FULL: 2>,\n",
      "                                 'mtu': 1468,\n",
      "                                 'speed': 1000,\n",
      "                                 'state': True}},\n",
      "    'Local Area Connection* 1': {   'addr': {   'ip4': '169.254.216.188',\n",
      "                                                'mac': 'EA-4E-06-57-08-67',\n",
      "                                                'mask': '255.255.0.0'},\n",
      "                                    'stats': {   'duplex': <NicDuplex.NIC_DUPLEX_FULL: 2>,\n",
      "                                                 'mtu': 1500,\n",
      "                                                 'speed': 0,\n",
      "                                                 'state': False}},\n",
      "    'Local Area Connection* 10': {   'addr': {   'ip4': '169.254.154.154',\n",
      "                                                 'mac': 'E8-4E-06-57-08-67',\n",
      "                                                 'mask': '255.255.0.0'},\n",
      "                                     'stats': {   'duplex': <NicDuplex.NIC_DUPLEX_FULL: 2>,\n",
      "                                                  'mtu': 1500,\n",
      "                                                  'speed': 0,\n",
      "                                                  'state': False}},\n",
      "    'Loopback Pseudo-Interface 1': {   'addr': {   'ip4': '::1',\n",
      "                                                   'mac': '127.0.0.1',\n",
      "                                                   'mask': None},\n",
      "                                       'stats': {   'duplex': <NicDuplex.NIC_DUPLEX_FULL: 2>,\n",
      "                                                    'mtu': 1500,\n",
      "                                                    'speed': 1073,\n",
      "                                                    'state': True}},\n",
      "    'VMware Network Adapter VMnet1': {   'addr': {   'ip4': '169.254.77.182',\n",
      "                                                     'mac': '00-50-56-C0-00-01',\n",
      "                                                     'mask': '255.255.0.0'},\n",
      "                                         'stats': {   'duplex': <NicDuplex.NIC_DUPLEX_FULL: 2>,\n",
      "                                                      'mtu': 1500,\n",
      "                                                      'speed': 100,\n",
      "                                                      'state': True}},\n",
      "    'VMware Network Adapter VMnet8': {   'addr': {   'ip4': '192.168.100.1',\n",
      "                                                     'mac': '00-50-56-C0-00-08',\n",
      "                                                     'mask': '255.255.255.0'},\n",
      "                                         'stats': {   'duplex': <NicDuplex.NIC_DUPLEX_FULL: 2>,\n",
      "                                                      'mtu': 1500,\n",
      "                                                      'speed': 100,\n",
      "                                                      'state': True}},\n",
      "    'VirtualBox Host-Only Network': {   'addr': {   'ip4': '192.168.56.1',\n",
      "                                                    'mac': '0A-00-27-00-00-0D',\n",
      "                                                    'mask': '255.255.255.0'},\n",
      "                                        'stats': {   'duplex': <NicDuplex.NIC_DUPLEX_FULL: 2>,\n",
      "                                                     'mtu': 1500,\n",
      "                                                     'speed': 1000,\n",
      "                                                     'state': True}},\n",
      "    'Wi-Fi': {   'addr': {   'ip4': '169.254.37.234',\n",
      "                             'mac': 'E8-4E-06-57-08-67',\n",
      "                             'mask': '255.255.0.0'},\n",
      "                 'stats': {   'duplex': <NicDuplex.NIC_DUPLEX_FULL: 2>,\n",
      "                              'mtu': 1500,\n",
      "                              'speed': 65,\n",
      "                              'state': False}}}\n"
     ]
    }
   ],
   "metadata": {}
  },
  {
   "cell_type": "code",
   "execution_count": 39,
   "source": [
    "# appending iface info\r\n",
    "for iface in ps.net_if_stats().keys():\r\n",
    "    stat  = ps.net_if_stats()[iface]\r\n",
    "    addr =  ps.net_if_addrs()[iface]\r\n",
    "\r\n",
    "    nic_result[iface] = {\r\n",
    "        'stats': {\r\n",
    "            'state' : stat[0],\r\n",
    "            'duplex' : stat[1],\r\n",
    "            'speed' : stat[2],\r\n",
    "            'mtu': stat[3]\r\n",
    "        },\r\n",
    "        'addr': {\r\n",
    "            'mac' : addr[0][1],\r\n",
    "            'ip4' : addr[1][1],\r\n",
    "            'mask': addr[1][2]\r\n",
    "        }\r\n",
    "    }"
   ],
   "outputs": [],
   "metadata": {}
  },
  {
   "cell_type": "code",
   "execution_count": 42,
   "source": [
    "pp.pprint(nic_result)"
   ],
   "outputs": [
    {
     "output_type": "stream",
     "name": "stdout",
     "text": [
      "{   'Ethernet': {   'addr': {   'ip4': '10.33.30.201',\n",
      "                                'mac': '38-D5-47-0F-78-22',\n",
      "                                'mask': '255.255.254.0'},\n",
      "                    'stats': {   'duplex': <NicDuplex.NIC_DUPLEX_FULL: 2>,\n",
      "                                 'mtu': 1468,\n",
      "                                 'speed': 1000,\n",
      "                                 'state': True}},\n",
      "    'Local Area Connection* 1': {   'addr': {   'ip4': '169.254.216.188',\n",
      "                                                'mac': 'EA-4E-06-57-08-67',\n",
      "                                                'mask': '255.255.0.0'},\n",
      "                                    'stats': {   'duplex': <NicDuplex.NIC_DUPLEX_FULL: 2>,\n",
      "                                                 'mtu': 1500,\n",
      "                                                 'speed': 0,\n",
      "                                                 'state': False}},\n",
      "    'Local Area Connection* 10': {   'addr': {   'ip4': '169.254.154.154',\n",
      "                                                 'mac': 'E8-4E-06-57-08-67',\n",
      "                                                 'mask': '255.255.0.0'},\n",
      "                                     'stats': {   'duplex': <NicDuplex.NIC_DUPLEX_FULL: 2>,\n",
      "                                                  'mtu': 1500,\n",
      "                                                  'speed': 0,\n",
      "                                                  'state': False}},\n",
      "    'Loopback Pseudo-Interface 1': {   'addr': {   'ip4': '::1',\n",
      "                                                   'mac': '127.0.0.1',\n",
      "                                                   'mask': None},\n",
      "                                       'stats': {   'duplex': <NicDuplex.NIC_DUPLEX_FULL: 2>,\n",
      "                                                    'mtu': 1500,\n",
      "                                                    'speed': 1073,\n",
      "                                                    'state': True}},\n",
      "    'VMware Network Adapter VMnet1': {   'addr': {   'ip4': '169.254.77.182',\n",
      "                                                     'mac': '00-50-56-C0-00-01',\n",
      "                                                     'mask': '255.255.0.0'},\n",
      "                                         'stats': {   'duplex': <NicDuplex.NIC_DUPLEX_FULL: 2>,\n",
      "                                                      'mtu': 1500,\n",
      "                                                      'speed': 100,\n",
      "                                                      'state': True}},\n",
      "    'VMware Network Adapter VMnet8': {   'addr': {   'ip4': '192.168.100.1',\n",
      "                                                     'mac': '00-50-56-C0-00-08',\n",
      "                                                     'mask': '255.255.255.0'},\n",
      "                                         'stats': {   'duplex': <NicDuplex.NIC_DUPLEX_FULL: 2>,\n",
      "                                                      'mtu': 1500,\n",
      "                                                      'speed': 100,\n",
      "                                                      'state': True}},\n",
      "    'VirtualBox Host-Only Network': {   'addr': {   'ip4': '192.168.56.1',\n",
      "                                                    'mac': '0A-00-27-00-00-0D',\n",
      "                                                    'mask': '255.255.255.0'},\n",
      "                                        'stats': {   'duplex': <NicDuplex.NIC_DUPLEX_FULL: 2>,\n",
      "                                                     'mtu': 1500,\n",
      "                                                     'speed': 1000,\n",
      "                                                     'state': True}},\n",
      "    'Wi-Fi': {   'addr': {   'ip4': '169.254.37.234',\n",
      "                             'mac': 'E8-4E-06-57-08-67',\n",
      "                             'mask': '255.255.0.0'},\n",
      "                 'stats': {   'duplex': <NicDuplex.NIC_DUPLEX_FULL: 2>,\n",
      "                              'mtu': 1500,\n",
      "                              'speed': 65,\n",
      "                              'state': False}}}\n"
     ]
    }
   ],
   "metadata": {}
  },
  {
   "cell_type": "code",
   "execution_count": 41,
   "source": [
    "ps.net_if_addrs()[iface]"
   ],
   "outputs": [
    {
     "output_type": "execute_result",
     "data": {
      "text/plain": [
       "[snicaddr(family=<AddressFamily.AF_LINK: -1>, address='E8-4E-06-57-08-67', netmask=None, broadcast=None, ptp=None),\n",
       " snicaddr(family=<AddressFamily.AF_INET: 2>, address='169.254.154.154', netmask='255.255.0.0', broadcast=None, ptp=None),\n",
       " snicaddr(family=<AddressFamily.AF_INET6: 23>, address='fe80::6cfa:e601:dacd:9a9a', netmask=None, broadcast=None, ptp=None)]"
      ]
     },
     "metadata": {},
     "execution_count": 41
    }
   ],
   "metadata": {}
  },
  {
   "cell_type": "code",
   "execution_count": 59,
   "source": [
    "ps.net_io_counters(pernic=True,nowrap=True)"
   ],
   "outputs": [
    {
     "output_type": "execute_result",
     "data": {
      "text/plain": [
       "{'Ethernet': snetio(bytes_sent=63069849, bytes_recv=7267290695, packets_sent=885743, packets_recv=196966, errin=0, errout=0, dropin=0, dropout=0),\n",
       " 'VirtualBox Host-Only Network': snetio(bytes_sent=0, bytes_recv=0, packets_sent=0, packets_recv=0, errin=0, errout=0, dropin=0, dropout=0),\n",
       " 'Local Area Connection* 1': snetio(bytes_sent=0, bytes_recv=0, packets_sent=0, packets_recv=0, errin=0, errout=0, dropin=0, dropout=0),\n",
       " 'Local Area Connection* 10': snetio(bytes_sent=0, bytes_recv=0, packets_sent=0, packets_recv=0, errin=0, errout=0, dropin=0, dropout=0),\n",
       " 'VMware Network Adapter VMnet1': snetio(bytes_sent=948, bytes_recv=0, packets_sent=948, packets_recv=0, errin=0, errout=0, dropin=0, dropout=0),\n",
       " 'VMware Network Adapter VMnet8': snetio(bytes_sent=811, bytes_recv=10, packets_sent=811, packets_recv=10, errin=0, errout=0, dropin=0, dropout=0),\n",
       " 'Wi-Fi': snetio(bytes_sent=0, bytes_recv=0, packets_sent=0, packets_recv=0, errin=0, errout=0, dropin=0, dropout=0),\n",
       " 'Loopback Pseudo-Interface 1': snetio(bytes_sent=0, bytes_recv=0, packets_sent=0, packets_recv=0, errin=0, errout=0, dropin=0, dropout=0)}"
      ]
     },
     "metadata": {},
     "execution_count": 59
    }
   ],
   "metadata": {}
  },
  {
   "cell_type": "code",
   "execution_count": 72,
   "source": [
    "# appending counter info\r\n",
    "\r\n",
    "for iface in ps.net_if_stats().keys():\r\n",
    "    stat  = ps.net_if_stats()[iface]\r\n",
    "    addr =  ps.net_if_addrs()[iface]\r\n",
    "    count = ps.net_io_counters(pernic=True)[iface]\r\n",
    "\r\n",
    "    nic_result[iface] = {\r\n",
    "        'stats': {\r\n",
    "            'state' : stat[0],\r\n",
    "            'duplex' : stat[1],\r\n",
    "            'speed' : stat[2],\r\n",
    "            'mtu': stat[3]\r\n",
    "        },\r\n",
    "        'addr': {\r\n",
    "            'mac' : addr[0][1],\r\n",
    "            'ip4' : addr[1][1],\r\n",
    "            'mask': addr[1][2]\r\n",
    "        },\r\n",
    "        'counter' : {\r\n",
    "            'byte' : { 'tx' : count[0], 'rx' : count[1]},\r\n",
    "            'packet' : { 'tx' : count[2], 'rx' : count[3]},\r\n",
    "            'error' : {'tx' : count[5], 'rx' : count[4]},\r\n",
    "            'drop' : { 'tx' : count[7], 'rx' : count[6] }\r\n",
    "        }\r\n",
    "    }"
   ],
   "outputs": [],
   "metadata": {}
  },
  {
   "cell_type": "code",
   "execution_count": 73,
   "source": [
    "pp.pprint(nic_result)"
   ],
   "outputs": [
    {
     "output_type": "stream",
     "name": "stdout",
     "text": [
      "{   'Ethernet': {   'addr': {   'ip4': '10.33.30.201',\n",
      "                                'mac': '38-D5-47-0F-78-22',\n",
      "                                'mask': '255.255.254.0'},\n",
      "                    'counter': {   'byte': {'rx': 7267866961, 'tx': 63359507},\n",
      "                                   'drop': {'rx': 0, 'tx': 0},\n",
      "                                   'error': {'rx': 0, 'tx': 0},\n",
      "                                   'packet': {'rx': 199256, 'tx': 886774}},\n",
      "                    'stats': {   'duplex': <NicDuplex.NIC_DUPLEX_FULL: 2>,\n",
      "                                 'mtu': 1468,\n",
      "                                 'speed': 1000,\n",
      "                                 'state': True}},\n",
      "    'Local Area Connection* 1': {   'addr': {   'ip4': '169.254.216.188',\n",
      "                                                'mac': 'EA-4E-06-57-08-67',\n",
      "                                                'mask': '255.255.0.0'},\n",
      "                                    'counter': {   'byte': {'rx': 0, 'tx': 0},\n",
      "                                                   'drop': {'rx': 0, 'tx': 0},\n",
      "                                                   'error': {'rx': 0, 'tx': 0},\n",
      "                                                   'packet': {   'rx': 0,\n",
      "                                                                 'tx': 0}},\n",
      "                                    'stats': {   'duplex': <NicDuplex.NIC_DUPLEX_FULL: 2>,\n",
      "                                                 'mtu': 1500,\n",
      "                                                 'speed': 0,\n",
      "                                                 'state': False}},\n",
      "    'Local Area Connection* 10': {   'addr': {   'ip4': '169.254.154.154',\n",
      "                                                 'mac': 'E8-4E-06-57-08-67',\n",
      "                                                 'mask': '255.255.0.0'},\n",
      "                                     'counter': {   'byte': {'rx': 0, 'tx': 0},\n",
      "                                                    'drop': {'rx': 0, 'tx': 0},\n",
      "                                                    'error': {'rx': 0, 'tx': 0},\n",
      "                                                    'packet': {   'rx': 0,\n",
      "                                                                  'tx': 0}},\n",
      "                                     'stats': {   'duplex': <NicDuplex.NIC_DUPLEX_FULL: 2>,\n",
      "                                                  'mtu': 1500,\n",
      "                                                  'speed': 0,\n",
      "                                                  'state': False}},\n",
      "    'Loopback Pseudo-Interface 1': {   'addr': {   'ip4': '::1',\n",
      "                                                   'mac': '127.0.0.1',\n",
      "                                                   'mask': None},\n",
      "                                       'counter': {   'byte': {   'rx': 0,\n",
      "                                                                  'tx': 0},\n",
      "                                                      'drop': {   'rx': 0,\n",
      "                                                                  'tx': 0},\n",
      "                                                      'error': {   'rx': 0,\n",
      "                                                                   'tx': 0},\n",
      "                                                      'packet': {   'rx': 0,\n",
      "                                                                    'tx': 0}},\n",
      "                                       'stats': {   'duplex': <NicDuplex.NIC_DUPLEX_FULL: 2>,\n",
      "                                                    'mtu': 1500,\n",
      "                                                    'speed': 1073,\n",
      "                                                    'state': True}},\n",
      "    'VMware Network Adapter VMnet1': {   'addr': {   'ip4': '169.254.77.182',\n",
      "                                                     'mac': '00-50-56-C0-00-01',\n",
      "                                                     'mask': '255.255.0.0'},\n",
      "                                         'counter': {   'byte': {   'rx': 0,\n",
      "                                                                    'tx': 966},\n",
      "                                                        'drop': {   'rx': 0,\n",
      "                                                                    'tx': 0},\n",
      "                                                        'error': {   'rx': 0,\n",
      "                                                                     'tx': 0},\n",
      "                                                        'packet': {   'rx': 0,\n",
      "                                                                      'tx': 966}},\n",
      "                                         'stats': {   'duplex': <NicDuplex.NIC_DUPLEX_FULL: 2>,\n",
      "                                                      'mtu': 1500,\n",
      "                                                      'speed': 100,\n",
      "                                                      'state': True}},\n",
      "    'VMware Network Adapter VMnet8': {   'addr': {   'ip4': '192.168.100.1',\n",
      "                                                     'mac': '00-50-56-C0-00-08',\n",
      "                                                     'mask': '255.255.255.0'},\n",
      "                                         'counter': {   'byte': {   'rx': 19,\n",
      "                                                                    'tx': 826},\n",
      "                                                        'drop': {   'rx': 0,\n",
      "                                                                    'tx': 0},\n",
      "                                                        'error': {   'rx': 0,\n",
      "                                                                     'tx': 0},\n",
      "                                                        'packet': {   'rx': 19,\n",
      "                                                                      'tx': 826}},\n",
      "                                         'stats': {   'duplex': <NicDuplex.NIC_DUPLEX_FULL: 2>,\n",
      "                                                      'mtu': 1500,\n",
      "                                                      'speed': 100,\n",
      "                                                      'state': True}},\n",
      "    'VirtualBox Host-Only Network': {   'addr': {   'ip4': '192.168.56.1',\n",
      "                                                    'mac': '0A-00-27-00-00-0D',\n",
      "                                                    'mask': '255.255.255.0'},\n",
      "                                        'counter': {   'byte': {   'rx': 0,\n",
      "                                                                   'tx': 0},\n",
      "                                                       'drop': {   'rx': 0,\n",
      "                                                                   'tx': 0},\n",
      "                                                       'error': {   'rx': 0,\n",
      "                                                                    'tx': 0},\n",
      "                                                       'packet': {   'rx': 0,\n",
      "                                                                     'tx': 0}},\n",
      "                                        'stats': {   'duplex': <NicDuplex.NIC_DUPLEX_FULL: 2>,\n",
      "                                                     'mtu': 1500,\n",
      "                                                     'speed': 1000,\n",
      "                                                     'state': True}},\n",
      "    'Wi-Fi': {   'addr': {   'ip4': '169.254.37.234',\n",
      "                             'mac': 'E8-4E-06-57-08-67',\n",
      "                             'mask': '255.255.0.0'},\n",
      "                 'counter': {   'byte': {'rx': 0, 'tx': 0},\n",
      "                                'drop': {'rx': 0, 'tx': 0},\n",
      "                                'error': {'rx': 0, 'tx': 0},\n",
      "                                'packet': {'rx': 0, 'tx': 0}},\n",
      "                 'stats': {   'duplex': <NicDuplex.NIC_DUPLEX_FULL: 2>,\n",
      "                              'mtu': 1500,\n",
      "                              'speed': 65,\n",
      "                              'state': False}}}\n"
     ]
    }
   ],
   "metadata": {}
  },
  {
   "cell_type": "code",
   "execution_count": 75,
   "source": [
    "def get_iface_info():\r\n",
    "    nic_result={}\r\n",
    "\r\n",
    "    for iface in ps.net_if_stats().keys():\r\n",
    "        stat  = ps.net_if_stats()[iface]\r\n",
    "        addr =  ps.net_if_addrs()[iface]\r\n",
    "        count = ps.net_io_counters(pernic=True)[iface]\r\n",
    "\r\n",
    "        nic_result[iface] = {\r\n",
    "            'stats': {\r\n",
    "                'state' : stat[0],\r\n",
    "                'duplex' : stat[1],\r\n",
    "                'speed' : stat[2],\r\n",
    "                'mtu': stat[3]\r\n",
    "            },\r\n",
    "            'addr': {\r\n",
    "                'mac' : addr[0][1],\r\n",
    "                'ip4' : addr[1][1],\r\n",
    "                'mask': addr[1][2]\r\n",
    "            },\r\n",
    "            'counter' : {\r\n",
    "                'byte' : { 'tx' : count[0], 'rx' : count[1]},\r\n",
    "                'packet' : { 'tx' : count[2], 'rx' : count[3]},\r\n",
    "                'error' : {'tx' : count[5], 'rx' : count[4]},\r\n",
    "                'drop' : { 'tx' : count[7], 'rx' : count[6] }\r\n",
    "            }\r\n",
    "        }\r\n",
    "\r\n",
    "    return nic_result"
   ],
   "outputs": [],
   "metadata": {}
  },
  {
   "cell_type": "code",
   "execution_count": 83,
   "source": [
    "'''\r\n",
    "def get_iface_info(iface):\r\n",
    "    addr = ps.net_if_addrs()[iface]\r\n",
    "    stats = ps.net_if_stats()[iface]\r\n",
    "    count = ps.net_io_counters(pernic=True,nowrap=True)[iface]\r\n",
    "    return {\r\n",
    "        'addr' : {\r\n",
    "            'ip': addr[1][1],\r\n",
    "            'mask': addr[1][2],\r\n",
    "            'mac': addr[0][1]\r\n",
    "        },\r\n",
    "        'stat' : {\r\n",
    "            'staus': stats[0],\r\n",
    "            'duplex': stats[1],\r\n",
    "            'speed':stats[2],\r\n",
    "            'mtu':stats[3],\r\n",
    "        },\r\n",
    "        'counter' : {\r\n",
    "            'byte' : { 'tx' : count[0], 'rx' : count[1]},\r\n",
    "            'packet' : { 'tx' : count[2], 'rx' : count[3]},\r\n",
    "            'error' : {'tx' : count[5], 'rx' : count[4]},\r\n",
    "            'drop' : { 'tx' : count[7], 'rx' : count[6] }\r\n",
    "        }\r\n",
    "    }\r\n",
    "''' "
   ],
   "outputs": [],
   "metadata": {}
  },
  {
   "cell_type": "code",
   "execution_count": 80,
   "source": [
    "%%time\r\n",
    "def get_util():\r\n",
    "    node_util = {\r\n",
    "        'cpu' : {\r\n",
    "            'util': get_cpu_util(),\r\n",
    "            'freq': get_cpu_freq(),\r\n",
    "            'core_count' : ps.cpu_count(),\r\n",
    "        },\r\n",
    "        'memory': get_mem_info(),\r\n",
    "        'network': get_iface_info()\r\n",
    "    }\r\n",
    "    return node_util"
   ],
   "outputs": [
    {
     "output_type": "stream",
     "name": "stdout",
     "text": [
      "Wall time: 0 ns\n"
     ]
    }
   ],
   "metadata": {}
  },
  {
   "cell_type": "code",
   "execution_count": 81,
   "source": [
    "%%time\r\n",
    "pp.pprint(get_util())"
   ],
   "outputs": [
    {
     "output_type": "stream",
     "name": "stdout",
     "text": [
      "{   'cpu': {   'core_count': 8,\n",
      "               'freq': {'current': 800.0, 'max': 4001.0, 'min': 0.0},\n",
      "               'util': {   'mean_util': 11.7375,\n",
      "                           'per_core_util': [   22.1,\n",
      "                                                3.1,\n",
      "                                                17.2,\n",
      "                                                6.2,\n",
      "                                                12.5,\n",
      "                                                12.5,\n",
      "                                                9.4,\n",
      "                                                10.9]}},\n",
      "    'memory': {'total_mb': 32639.1133, 'util': 37.7},\n",
      "    'network': {   'Ethernet': {   'addr': {   'ip4': '10.33.30.201',\n",
      "                                               'mac': '38-D5-47-0F-78-22',\n",
      "                                               'mask': '255.255.254.0'},\n",
      "                                   'counter': {   'byte': {   'rx': 7268223653,\n",
      "                                                              'tx': 63569619},\n",
      "                                                  'drop': {'rx': 0, 'tx': 0},\n",
      "                                                  'error': {'rx': 0, 'tx': 0},\n",
      "                                                  'packet': {   'rx': 200815,\n",
      "                                                                'tx': 887496}},\n",
      "                                   'stats': {   'duplex': <NicDuplex.NIC_DUPLEX_FULL: 2>,\n",
      "                                                'mtu': 1468,\n",
      "                                                'speed': 1000,\n",
      "                                                'state': True}},\n",
      "                   'Local Area Connection* 1': {   'addr': {   'ip4': '169.254.216.188',\n",
      "                                                               'mac': 'EA-4E-06-57-08-67',\n",
      "                                                               'mask': '255.255.0.0'},\n",
      "                                                   'counter': {   'byte': {   'rx': 0,\n",
      "                                                                              'tx': 0},\n",
      "                                                                  'drop': {   'rx': 0,\n",
      "                                                                              'tx': 0},\n",
      "                                                                  'error': {   'rx': 0,\n",
      "                                                                               'tx': 0},\n",
      "                                                                  'packet': {   'rx': 0,\n",
      "                                                                                'tx': 0}},\n",
      "                                                   'stats': {   'duplex': <NicDuplex.NIC_DUPLEX_FULL: 2>,\n",
      "                                                                'mtu': 1500,\n",
      "                                                                'speed': 0,\n",
      "                                                                'state': False}},\n",
      "                   'Local Area Connection* 10': {   'addr': {   'ip4': '169.254.154.154',\n",
      "                                                                'mac': 'E8-4E-06-57-08-67',\n",
      "                                                                'mask': '255.255.0.0'},\n",
      "                                                    'counter': {   'byte': {   'rx': 0,\n",
      "                                                                               'tx': 0},\n",
      "                                                                   'drop': {   'rx': 0,\n",
      "                                                                               'tx': 0},\n",
      "                                                                   'error': {   'rx': 0,\n",
      "                                                                                'tx': 0},\n",
      "                                                                   'packet': {   'rx': 0,\n",
      "                                                                                 'tx': 0}},\n",
      "                                                    'stats': {   'duplex': <NicDuplex.NIC_DUPLEX_FULL: 2>,\n",
      "                                                                 'mtu': 1500,\n",
      "                                                                 'speed': 0,\n",
      "                                                                 'state': False}},\n",
      "                   'Loopback Pseudo-Interface 1': {   'addr': {   'ip4': '::1',\n",
      "                                                                  'mac': '127.0.0.1',\n",
      "                                                                  'mask': None},\n",
      "                                                      'counter': {   'byte': {   'rx': 0,\n",
      "                                                                                 'tx': 0},\n",
      "                                                                     'drop': {   'rx': 0,\n",
      "                                                                                 'tx': 0},\n",
      "                                                                     'error': {   'rx': 0,\n",
      "                                                                                  'tx': 0},\n",
      "                                                                     'packet': {   'rx': 0,\n",
      "                                                                                   'tx': 0}},\n",
      "                                                      'stats': {   'duplex': <NicDuplex.NIC_DUPLEX_FULL: 2>,\n",
      "                                                                   'mtu': 1500,\n",
      "                                                                   'speed': 1073,\n",
      "                                                                   'state': True}},\n",
      "                   'VMware Network Adapter VMnet1': {   'addr': {   'ip4': '169.254.77.182',\n",
      "                                                                    'mac': '00-50-56-C0-00-01',\n",
      "                                                                    'mask': '255.255.0.0'},\n",
      "                                                        'counter': {   'byte': {   'rx': 0,\n",
      "                                                                                   'tx': 987},\n",
      "                                                                       'drop': {   'rx': 0,\n",
      "                                                                                   'tx': 0},\n",
      "                                                                       'error': {   'rx': 0,\n",
      "                                                                                    'tx': 0},\n",
      "                                                                       'packet': {   'rx': 0,\n",
      "                                                                                     'tx': 987}},\n",
      "                                                        'stats': {   'duplex': <NicDuplex.NIC_DUPLEX_FULL: 2>,\n",
      "                                                                     'mtu': 1500,\n",
      "                                                                     'speed': 100,\n",
      "                                                                     'state': True}},\n",
      "                   'VMware Network Adapter VMnet8': {   'addr': {   'ip4': '192.168.100.1',\n",
      "                                                                    'mac': '00-50-56-C0-00-08',\n",
      "                                                                    'mask': '255.255.255.0'},\n",
      "                                                        'counter': {   'byte': {   'rx': 25,\n",
      "                                                                                   'tx': 833},\n",
      "                                                                       'drop': {   'rx': 0,\n",
      "                                                                                   'tx': 0},\n",
      "                                                                       'error': {   'rx': 0,\n",
      "                                                                                    'tx': 0},\n",
      "                                                                       'packet': {   'rx': 25,\n",
      "                                                                                     'tx': 833}},\n",
      "                                                        'stats': {   'duplex': <NicDuplex.NIC_DUPLEX_FULL: 2>,\n",
      "                                                                     'mtu': 1500,\n",
      "                                                                     'speed': 100,\n",
      "                                                                     'state': True}},\n",
      "                   'VirtualBox Host-Only Network': {   'addr': {   'ip4': '192.168.56.1',\n",
      "                                                                   'mac': '0A-00-27-00-00-0D',\n",
      "                                                                   'mask': '255.255.255.0'},\n",
      "                                                       'counter': {   'byte': {   'rx': 0,\n",
      "                                                                                  'tx': 0},\n",
      "                                                                      'drop': {   'rx': 0,\n",
      "                                                                                  'tx': 0},\n",
      "                                                                      'error': {   'rx': 0,\n",
      "                                                                                   'tx': 0},\n",
      "                                                                      'packet': {   'rx': 0,\n",
      "                                                                                    'tx': 0}},\n",
      "                                                       'stats': {   'duplex': <NicDuplex.NIC_DUPLEX_FULL: 2>,\n",
      "                                                                    'mtu': 1500,\n",
      "                                                                    'speed': 1000,\n",
      "                                                                    'state': True}},\n",
      "                   'Wi-Fi': {   'addr': {   'ip4': '169.254.37.234',\n",
      "                                            'mac': 'E8-4E-06-57-08-67',\n",
      "                                            'mask': '255.255.0.0'},\n",
      "                                'counter': {   'byte': {'rx': 0, 'tx': 0},\n",
      "                                               'drop': {'rx': 0, 'tx': 0},\n",
      "                                               'error': {'rx': 0, 'tx': 0},\n",
      "                                               'packet': {'rx': 0, 'tx': 0}},\n",
      "                                'stats': {   'duplex': <NicDuplex.NIC_DUPLEX_FULL: 2>,\n",
      "                                             'mtu': 1500,\n",
      "                                             'speed': 65,\n",
      "                                             'state': False}}}}\n",
      "Wall time: 1.26 s\n"
     ]
    }
   ],
   "metadata": {}
  },
  {
   "cell_type": "code",
   "execution_count": 111,
   "source": [
    "import json\r\n",
    "b = str.encode(json.dumps(get_util(iface='Wi-Fi')))\r\n",
    "s = json.loads(bytes.decode(b))\r\n",
    "\r\n",
    "print(b,'\\n\\n',s)"
   ],
   "outputs": [
    {
     "output_type": "stream",
     "name": "stdout",
     "text": [
      "b'{\"cpu\": {\"util\": {\"per_core_util\": [10.8, 6.2, 21.5, 1.5, 12.3, 4.6, 6.2, 9.2], \"mean_util\": 9.0375}, \"freq\": {\"current\": 800.0, \"min\": 0.0, \"max\": 4001.0}, \"core_count\": 8}, \"memory\": {\"total_mb\": 32639.1133, \"util\": 36.5}, \"network\": {\"addr\": {\"ip\": \"136.148.146.86\", \"mask\": \"255.255.252.0\", \"mac\": \"E8-4E-06-57-08-67\"}, \"stat\": {\"staus\": true, \"duplex\": 2, \"speed\": 52, \"mtu\": 1500}, \"counter\": {\"byte\": {\"tx\": 1327943689, \"rx\": 2972065167}, \"packet\": {\"tx\": 996559, \"rx\": 2993648}, \"error\": {\"tx\": 0, \"rx\": 0}, \"drop\": {\"tx\": 0, \"rx\": 0}}}}' \n",
      "\n",
      " {'cpu': {'util': {'per_core_util': [10.8, 6.2, 21.5, 1.5, 12.3, 4.6, 6.2, 9.2], 'mean_util': 9.0375}, 'freq': {'current': 800.0, 'min': 0.0, 'max': 4001.0}, 'core_count': 8}, 'memory': {'total_mb': 32639.1133, 'util': 36.5}, 'network': {'addr': {'ip': '136.148.146.86', 'mask': '255.255.252.0', 'mac': 'E8-4E-06-57-08-67'}, 'stat': {'staus': True, 'duplex': 2, 'speed': 52, 'mtu': 1500}, 'counter': {'byte': {'tx': 1327943689, 'rx': 2972065167}, 'packet': {'tx': 996559, 'rx': 2993648}, 'error': {'tx': 0, 'rx': 0}, 'drop': {'tx': 0, 'rx': 0}}}}\n"
     ]
    }
   ],
   "metadata": {}
  },
  {
   "cell_type": "code",
   "execution_count": 91,
   "source": [
    "import time \r\n",
    "import random\r\n",
    "import threading\r\n",
    "import queue\r\n",
    "\r\n",
    "def f1(a,b):\r\n",
    "    time.sleep(random.randint(0,4))\r\n",
    "    print(a+b)\r\n",
    "    return a+b\r\n",
    "def f2(a,b):\r\n",
    "    time.sleep(random.randint(0,4))\r\n",
    "    print(a*b)\r\n",
    "    return a*b\r\n",
    "\r\n",
    "T = []\r\n",
    "R = {}\r\n",
    "Q = queue.Queue()\r\n",
    "T.append(threading.Thread(target=f1,args=(5,6,Q)))\r\n",
    "T.append(threading.Thread(target=f2,args=(5,6,Q)))\r\n",
    "\r\n",
    "for t in T:\r\n",
    "    t.start()\r\n",
    "    \r\n",
    "for t in T:\r\n",
    "    t.join()\r\n",
    "    \r\n",
    "'''    \r\n",
    "R['add'] = T[0].join()\r\n",
    "R['mul'] = T[1].join()\r\n",
    "'''\r\n",
    "print(R)\r\n"
   ],
   "outputs": [
    {
     "output_type": "stream",
     "name": "stdout",
     "text": [
      "3011\n",
      "\n",
      "None\n",
      "None\n",
      "{}\n"
     ]
    }
   ],
   "metadata": {}
  },
  {
   "cell_type": "code",
   "execution_count": 89,
   "source": [
    "R"
   ],
   "outputs": [
    {
     "output_type": "execute_result",
     "data": {
      "text/plain": [
       "{'add': None, 'mul': None}"
      ]
     },
     "metadata": {},
     "execution_count": 89
    }
   ],
   "metadata": {}
  },
  {
   "cell_type": "code",
   "execution_count": null,
   "source": [],
   "outputs": [],
   "metadata": {}
  }
 ],
 "metadata": {
  "kernelspec": {
   "name": "python3",
   "display_name": "Python 3.8.8 64-bit ('base': conda)"
  },
  "language_info": {
   "codemirror_mode": {
    "name": "ipython",
    "version": 3
   },
   "file_extension": ".py",
   "mimetype": "text/x-python",
   "name": "python",
   "nbconvert_exporter": "python",
   "pygments_lexer": "ipython3",
   "version": "3.8.8"
  },
  "interpreter": {
   "hash": "67225c7e36880c542173d48af519bca833c35c219bdf4dab9f5f705507d6a74f"
  }
 },
 "nbformat": 4,
 "nbformat_minor": 5
}