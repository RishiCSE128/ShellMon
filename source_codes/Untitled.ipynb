{
 "cells": [
  {
   "cell_type": "markdown",
   "source": [
    "# Client Side"
   ],
   "metadata": {}
  },
  {
   "cell_type": "code",
   "execution_count": 2,
   "source": [
    "! pip install rssi\n",
    "! pip install psutil"
   ],
   "outputs": [
    {
     "output_type": "stream",
     "name": "stdout",
     "text": [
      "Requirement already satisfied: rssi in c:\\users\\sapta\\anaconda3\\lib\\site-packages (1.0.2)\n",
      "Requirement already satisfied: psutil in c:\\users\\sapta\\anaconda3\\lib\\site-packages (5.8.0)\n"
     ]
    }
   ],
   "metadata": {}
  },
  {
   "cell_type": "markdown",
   "source": [
    "The utilization data is captured using the `psutil` library "
   ],
   "metadata": {}
  },
  {
   "cell_type": "code",
   "execution_count": 3,
   "source": [
    "import psutil as ps\n",
    "import threading as th"
   ],
   "outputs": [],
   "metadata": {}
  },
  {
   "cell_type": "markdown",
   "source": [
    "## Node info"
   ],
   "metadata": {}
  },
  {
   "cell_type": "markdown",
   "source": [
    "the Node utilization funtion of $Node_i$ is $C_i^N(t) = f_i^N(X_i^N,t) = \\bigg[ \\alpha_c \\big( fc_i(t)*nc_i(t)*uc_i(t) \\big) + \\alpha_m \\big( fm_i(t)*vm_i(t)*um_i(t) \\big) \\bigg]$, where the parameters are,\n",
    "\n",
    "| Resource | Node parameters | meaning |\n",
    "|---|---|---|\n",
    "|CPU| $fc_i(t)$ | max core frequency  |\n",
    "|| $nc_i(t)$ | number of logical core |\n",
    "|| $uc_i(t)$ | mean CPU utilization at time $t$ |\n",
    "|Memory| $fm_i(t)$ | max DRAM frequency |\n",
    "|| $vm_i(t)$ | RAM volume $t$ |\n",
    "|| $um_i(t)$ | mean RAM utilization at time $t$ |"
   ],
   "metadata": {}
  },
  {
   "cell_type": "markdown",
   "source": [
    "### CPU info"
   ],
   "metadata": {}
  },
  {
   "cell_type": "code",
   "execution_count": 20,
   "source": [
    "import pprint\n",
    "pp =pprint.PrettyPrinter(indent=4)"
   ],
   "outputs": [],
   "metadata": {}
  },
  {
   "cell_type": "code",
   "execution_count": 21,
   "source": [
    "# number of logical cpu cores\n",
    "ps.cpu_count(logical=True)"
   ],
   "outputs": [
    {
     "output_type": "error",
     "ename": "NameError",
     "evalue": "name 'ps' is not defined",
     "traceback": [
      "\u001b[0;31m---------------------------------------------------------------------------\u001b[0m",
      "\u001b[0;31mNameError\u001b[0m                                 Traceback (most recent call last)",
      "\u001b[0;32m/tmp/ipykernel_14771/2173237149.py\u001b[0m in \u001b[0;36m<module>\u001b[0;34m\u001b[0m\n\u001b[1;32m      1\u001b[0m \u001b[0;31m# number of logical cpu cores\u001b[0m\u001b[0;34m\u001b[0m\u001b[0;34m\u001b[0m\u001b[0;34m\u001b[0m\u001b[0m\n\u001b[0;32m----> 2\u001b[0;31m \u001b[0mps\u001b[0m\u001b[0;34m.\u001b[0m\u001b[0mcpu_count\u001b[0m\u001b[0;34m(\u001b[0m\u001b[0mlogical\u001b[0m\u001b[0;34m=\u001b[0m\u001b[0;32mTrue\u001b[0m\u001b[0;34m)\u001b[0m\u001b[0;34m\u001b[0m\u001b[0;34m\u001b[0m\u001b[0m\n\u001b[0m",
      "\u001b[0;31mNameError\u001b[0m: name 'ps' is not defined"
     ]
    }
   ],
   "metadata": {}
  },
  {
   "cell_type": "code",
   "execution_count": 5,
   "source": [
    "# Max frequency \n",
    "ps.cpu_freq(percpu=True)"
   ],
   "outputs": [
    {
     "output_type": "execute_result",
     "data": {
      "text/plain": [
       "[scpufreq(current=4000.0, min=0.0, max=4001.0)]"
      ]
     },
     "metadata": {},
     "execution_count": 5
    }
   ],
   "metadata": {}
  },
  {
   "cell_type": "code",
   "execution_count": 6,
   "source": [
    "ps.cpu_freq(percpu=True)[0][2]  # max freq"
   ],
   "outputs": [
    {
     "output_type": "execute_result",
     "data": {
      "text/plain": [
       "4001.0"
      ]
     },
     "metadata": {},
     "execution_count": 6
    }
   ],
   "metadata": {}
  },
  {
   "cell_type": "code",
   "execution_count": 7,
   "source": [
    "# average utilization\n",
    "ps.cpu_percent(interval=1, percpu=True)"
   ],
   "outputs": [
    {
     "output_type": "execute_result",
     "data": {
      "text/plain": [
       "[14.9, 9.2, 14.1, 6.2, 17.2, 3.1, 10.9, 15.6]"
      ]
     },
     "metadata": {},
     "execution_count": 7
    }
   ],
   "metadata": {}
  },
  {
   "cell_type": "code",
   "execution_count": 8,
   "source": [
    "round(sum(ps.cpu_percent(interval=1, percpu=True))/ps.cpu_count(),4)"
   ],
   "outputs": [
    {
     "output_type": "execute_result",
     "data": {
      "text/plain": [
       "11.825"
      ]
     },
     "metadata": {},
     "execution_count": 8
    }
   ],
   "metadata": {}
  },
  {
   "cell_type": "code",
   "execution_count": 9,
   "source": [
    "def get_cpu_freq():\n",
    "    temp = ps.cpu_freq(percpu=True)[0]\n",
    "    return {'current' :temp[0], 'min': temp[1], 'max': temp[2] }"
   ],
   "outputs": [],
   "metadata": {}
  },
  {
   "cell_type": "code",
   "execution_count": 10,
   "source": [
    "def get_cpu_util():\n",
    "    temp = ps.cpu_percent(interval=1, percpu=True)\n",
    "    return {'per_core_util' : temp, 'mean_util' : round(sum(temp)/len(temp) , 4)}"
   ],
   "outputs": [],
   "metadata": {}
  },
  {
   "cell_type": "code",
   "execution_count": 11,
   "source": [
    "%%time\n",
    "node_util = {\n",
    "    'cpu' : {\n",
    "        'util': get_cpu_util(),\n",
    "        'freq': get_cpu_freq(),\n",
    "        'core_count' : ps.cpu_count(),\n",
    "    }\n",
    "}"
   ],
   "outputs": [
    {
     "output_type": "stream",
     "name": "stdout",
     "text": [
      "Wall time: 1 s\n"
     ]
    }
   ],
   "metadata": {}
  },
  {
   "cell_type": "code",
   "execution_count": 44,
   "source": [
    "%%time\n",
    "pp.pprint(node_util)"
   ],
   "outputs": [
    {
     "output_type": "stream",
     "name": "stdout",
     "text": [
      "{   'cpu': {   'core_count': 8,\n",
      "               'freq': {'current': 1900.0, 'max': 4001.0, 'min': 0.0},\n",
      "               'util': {   'mean_util': 10.7,\n",
      "                           'per_core_util': [   20.9,\n",
      "                                                6.2,\n",
      "                                                15.4,\n",
      "                                                7.7,\n",
      "                                                16.9,\n",
      "                                                4.6,\n",
      "                                                6.2,\n",
      "                                                7.7]}},\n",
      "    'memory': {'total_mb': 32639.1133, 'util': 37.4}}\n",
      "Wall time: 996 µs\n"
     ]
    }
   ],
   "metadata": {}
  },
  {
   "cell_type": "markdown",
   "source": [
    "### Memory Info "
   ],
   "metadata": {}
  },
  {
   "cell_type": "code",
   "execution_count": 46,
   "source": [
    "ps.virtual_memory()"
   ],
   "outputs": [
    {
     "output_type": "execute_result",
     "data": {
      "text/plain": [
       "svmem(total=34224590848, available=21331185664, percent=37.7, used=12893405184, free=21331185664)"
      ]
     },
     "metadata": {},
     "execution_count": 46
    }
   ],
   "metadata": {}
  },
  {
   "cell_type": "code",
   "execution_count": 47,
   "source": [
    "def get_mem_info():\n",
    "    temp = ps.virtual_memory()\n",
    "    return {'total_mb': round(temp[0]/(1024*1024), 4), 'util':temp[2]}"
   ],
   "outputs": [],
   "metadata": {}
  },
  {
   "cell_type": "code",
   "execution_count": 48,
   "source": [
    "%%time\n",
    "node_util = {\n",
    "    'cpu' : {\n",
    "        'util': get_cpu_util(),\n",
    "        'freq': get_cpu_freq(),\n",
    "        'core_count' : ps.cpu_count(),\n",
    "    },\n",
    "    'memory': get_mem_info()\n",
    "}"
   ],
   "outputs": [
    {
     "output_type": "stream",
     "name": "stdout",
     "text": [
      "Wall time: 1 s\n"
     ]
    }
   ],
   "metadata": {}
  },
  {
   "cell_type": "code",
   "execution_count": 50,
   "source": [
    "pp.pprint(node_util)"
   ],
   "outputs": [
    {
     "output_type": "stream",
     "name": "stdout",
     "text": [
      "{   'cpu': {   'core_count': 8,\n",
      "               'freq': {'current': 800.0, 'max': 4001.0, 'min': 0.0},\n",
      "               'util': {   'mean_util': 9.9375,\n",
      "                           'per_core_util': [   10.8,\n",
      "                                                4.7,\n",
      "                                                17.2,\n",
      "                                                6.2,\n",
      "                                                14.1,\n",
      "                                                3.1,\n",
      "                                                6.2,\n",
      "                                                17.2]}},\n",
      "    'memory': {'total_mb': 32639.1133, 'util': 37.7}}\n"
     ]
    }
   ],
   "metadata": {}
  },
  {
   "cell_type": "markdown",
   "source": [
    "## Network "
   ],
   "metadata": {}
  },
  {
   "cell_type": "code",
   "execution_count": 17,
   "source": [
    "iface = 'Wi-Fi'"
   ],
   "outputs": [],
   "metadata": {}
  },
  {
   "cell_type": "code",
   "execution_count": 18,
   "source": [
    "ps.net_if_stats()"
   ],
   "outputs": [
    {
     "output_type": "execute_result",
     "data": {
      "text/plain": [
       "{'Ethernet': snicstats(isup=True, duplex=<NicDuplex.NIC_DUPLEX_FULL: 2>, speed=1000, mtu=1468),\n",
       " 'VMware Network Adapter VMnet1': snicstats(isup=True, duplex=<NicDuplex.NIC_DUPLEX_FULL: 2>, speed=100, mtu=1500),\n",
       " 'VMware Network Adapter VMnet8': snicstats(isup=True, duplex=<NicDuplex.NIC_DUPLEX_FULL: 2>, speed=100, mtu=1500),\n",
       " 'VirtualBox Host-Only Network': snicstats(isup=True, duplex=<NicDuplex.NIC_DUPLEX_FULL: 2>, speed=1000, mtu=1500),\n",
       " 'Loopback Pseudo-Interface 1': snicstats(isup=True, duplex=<NicDuplex.NIC_DUPLEX_FULL: 2>, speed=1073, mtu=1500),\n",
       " 'Wi-Fi': snicstats(isup=False, duplex=<NicDuplex.NIC_DUPLEX_FULL: 2>, speed=65, mtu=1500),\n",
       " 'Local Area Connection* 1': snicstats(isup=False, duplex=<NicDuplex.NIC_DUPLEX_FULL: 2>, speed=0, mtu=1500),\n",
       " 'Local Area Connection* 10': snicstats(isup=False, duplex=<NicDuplex.NIC_DUPLEX_FULL: 2>, speed=0, mtu=1500)}"
      ]
     },
     "metadata": {},
     "execution_count": 18
    }
   ],
   "metadata": {}
  },
  {
   "cell_type": "code",
   "execution_count": 19,
   "source": [
    "# getting the interface names only\n",
    "\n",
    "ps.net_if_stats().keys()"
   ],
   "outputs": [
    {
     "output_type": "execute_result",
     "data": {
      "text/plain": [
       "dict_keys(['Ethernet', 'VMware Network Adapter VMnet1', 'VMware Network Adapter VMnet8', 'VirtualBox Host-Only Network', 'Loopback Pseudo-Interface 1', 'Wi-Fi', 'Local Area Connection* 1', 'Local Area Connection* 10'])"
      ]
     },
     "metadata": {},
     "execution_count": 19
    }
   ],
   "metadata": {}
  },
  {
   "cell_type": "code",
   "execution_count": 24,
   "source": [
    "ps.net_if_stats()[iface]"
   ],
   "outputs": [
    {
     "output_type": "execute_result",
     "data": {
      "text/plain": [
       "snicstats(isup=True, duplex=<NicDuplex.NIC_DUPLEX_FULL: 2>, speed=1000, mtu=1468)"
      ]
     },
     "metadata": {},
     "execution_count": 24
    }
   ],
   "metadata": {}
  },
  {
   "cell_type": "code",
   "execution_count": 26,
   "source": [
    "# global ds to hold nic info\n",
    "nic_result={}"
   ],
   "outputs": [],
   "metadata": {}
  },
  {
   "cell_type": "code",
   "execution_count": 37,
   "source": [
    "# getting stats for all interfaces \n",
    "\n",
    "for iface in ps.net_if_stats().keys():\n",
    "    stat  = ps.net_if_stats()[iface]\n",
    "    nic_result[iface] = {\n",
    "        'state' : stat[0],\n",
    "        'duplex' : stat[1],\n",
    "         'speed' : stat[2],\n",
    "         'mtu': stat[3]\n",
    "    }"
   ],
   "outputs": [],
   "metadata": {}
  },
  {
   "cell_type": "code",
   "execution_count": 51,
   "source": [
    "pp.pprint(nic_result)"
   ],
   "outputs": [
    {
     "output_type": "stream",
     "name": "stdout",
     "text": [
      "{   'Ethernet': {   'addr': {   'ip4': '10.33.30.201',\n",
      "                                'mac': '38-D5-47-0F-78-22',\n",
      "                                'mask': '255.255.254.0'},\n",
      "                    'stats': {   'duplex': <NicDuplex.NIC_DUPLEX_FULL: 2>,\n",
      "                                 'mtu': 1468,\n",
      "                                 'speed': 1000,\n",
      "                                 'state': True}},\n",
      "    'Local Area Connection* 1': {   'addr': {   'ip4': '169.254.216.188',\n",
      "                                                'mac': 'EA-4E-06-57-08-67',\n",
      "                                                'mask': '255.255.0.0'},\n",
      "                                    'stats': {   'duplex': <NicDuplex.NIC_DUPLEX_FULL: 2>,\n",
      "                                                 'mtu': 1500,\n",
      "                                                 'speed': 0,\n",
      "                                                 'state': False}},\n",
      "    'Local Area Connection* 10': {   'addr': {   'ip4': '169.254.154.154',\n",
      "                                                 'mac': 'E8-4E-06-57-08-67',\n",
      "                                                 'mask': '255.255.0.0'},\n",
      "                                     'stats': {   'duplex': <NicDuplex.NIC_DUPLEX_FULL: 2>,\n",
      "                                                  'mtu': 1500,\n",
      "                                                  'speed': 0,\n",
      "                                                  'state': False}},\n",
      "    'Loopback Pseudo-Interface 1': {   'addr': {   'ip4': '::1',\n",
      "                                                   'mac': '127.0.0.1',\n",
      "                                                   'mask': None},\n",
      "                                       'stats': {   'duplex': <NicDuplex.NIC_DUPLEX_FULL: 2>,\n",
      "                                                    'mtu': 1500,\n",
      "                                                    'speed': 1073,\n",
      "                                                    'state': True}},\n",
      "    'VMware Network Adapter VMnet1': {   'addr': {   'ip4': '169.254.77.182',\n",
      "                                                     'mac': '00-50-56-C0-00-01',\n",
      "                                                     'mask': '255.255.0.0'},\n",
      "                                         'stats': {   'duplex': <NicDuplex.NIC_DUPLEX_FULL: 2>,\n",
      "                                                      'mtu': 1500,\n",
      "                                                      'speed': 100,\n",
      "                                                      'state': True}},\n",
      "    'VMware Network Adapter VMnet8': {   'addr': {   'ip4': '192.168.100.1',\n",
      "                                                     'mac': '00-50-56-C0-00-08',\n",
      "                                                     'mask': '255.255.255.0'},\n",
      "                                         'stats': {   'duplex': <NicDuplex.NIC_DUPLEX_FULL: 2>,\n",
      "                                                      'mtu': 1500,\n",
      "                                                      'speed': 100,\n",
      "                                                      'state': True}},\n",
      "    'VirtualBox Host-Only Network': {   'addr': {   'ip4': '192.168.56.1',\n",
      "                                                    'mac': '0A-00-27-00-00-0D',\n",
      "                                                    'mask': '255.255.255.0'},\n",
      "                                        'stats': {   'duplex': <NicDuplex.NIC_DUPLEX_FULL: 2>,\n",
      "                                                     'mtu': 1500,\n",
      "                                                     'speed': 1000,\n",
      "                                                     'state': True}},\n",
      "    'Wi-Fi': {   'addr': {   'ip4': '169.254.37.234',\n",
      "                             'mac': 'E8-4E-06-57-08-67',\n",
      "                             'mask': '255.255.0.0'},\n",
      "                 'stats': {   'duplex': <NicDuplex.NIC_DUPLEX_FULL: 2>,\n",
      "                              'mtu': 1500,\n",
      "                              'speed': 65,\n",
      "                              'state': False}}}\n"
     ]
    }
   ],
   "metadata": {}
  },
  {
   "cell_type": "code",
   "execution_count": 39,
   "source": [
    "# appending iface info\n",
    "for iface in ps.net_if_stats().keys():\n",
    "    stat  = ps.net_if_stats()[iface]\n",
    "    addr =  ps.net_if_addrs()[iface]\n",
    "\n",
    "    nic_result[iface] = {\n",
    "        'stats': {\n",
    "            'state' : stat[0],\n",
    "            'duplex' : stat[1],\n",
    "            'speed' : stat[2],\n",
    "            'mtu': stat[3]\n",
    "        },\n",
    "        'addr': {\n",
    "            'mac' : addr[0][1],\n",
    "            'ip4' : addr[1][1],\n",
    "            'mask': addr[1][2]\n",
    "        }\n",
    "    }"
   ],
   "outputs": [],
   "metadata": {}
  },
  {
   "cell_type": "code",
   "execution_count": 42,
   "source": [
    "pp.pprint(nic_result)"
   ],
   "outputs": [
    {
     "output_type": "stream",
     "name": "stdout",
     "text": [
      "{   'Ethernet': {   'addr': {   'ip4': '10.33.30.201',\n",
      "                                'mac': '38-D5-47-0F-78-22',\n",
      "                                'mask': '255.255.254.0'},\n",
      "                    'stats': {   'duplex': <NicDuplex.NIC_DUPLEX_FULL: 2>,\n",
      "                                 'mtu': 1468,\n",
      "                                 'speed': 1000,\n",
      "                                 'state': True}},\n",
      "    'Local Area Connection* 1': {   'addr': {   'ip4': '169.254.216.188',\n",
      "                                                'mac': 'EA-4E-06-57-08-67',\n",
      "                                                'mask': '255.255.0.0'},\n",
      "                                    'stats': {   'duplex': <NicDuplex.NIC_DUPLEX_FULL: 2>,\n",
      "                                                 'mtu': 1500,\n",
      "                                                 'speed': 0,\n",
      "                                                 'state': False}},\n",
      "    'Local Area Connection* 10': {   'addr': {   'ip4': '169.254.154.154',\n",
      "                                                 'mac': 'E8-4E-06-57-08-67',\n",
      "                                                 'mask': '255.255.0.0'},\n",
      "                                     'stats': {   'duplex': <NicDuplex.NIC_DUPLEX_FULL: 2>,\n",
      "                                                  'mtu': 1500,\n",
      "                                                  'speed': 0,\n",
      "                                                  'state': False}},\n",
      "    'Loopback Pseudo-Interface 1': {   'addr': {   'ip4': '::1',\n",
      "                                                   'mac': '127.0.0.1',\n",
      "                                                   'mask': None},\n",
      "                                       'stats': {   'duplex': <NicDuplex.NIC_DUPLEX_FULL: 2>,\n",
      "                                                    'mtu': 1500,\n",
      "                                                    'speed': 1073,\n",
      "                                                    'state': True}},\n",
      "    'VMware Network Adapter VMnet1': {   'addr': {   'ip4': '169.254.77.182',\n",
      "                                                     'mac': '00-50-56-C0-00-01',\n",
      "                                                     'mask': '255.255.0.0'},\n",
      "                                         'stats': {   'duplex': <NicDuplex.NIC_DUPLEX_FULL: 2>,\n",
      "                                                      'mtu': 1500,\n",
      "                                                      'speed': 100,\n",
      "                                                      'state': True}},\n",
      "    'VMware Network Adapter VMnet8': {   'addr': {   'ip4': '192.168.100.1',\n",
      "                                                     'mac': '00-50-56-C0-00-08',\n",
      "                                                     'mask': '255.255.255.0'},\n",
      "                                         'stats': {   'duplex': <NicDuplex.NIC_DUPLEX_FULL: 2>,\n",
      "                                                      'mtu': 1500,\n",
      "                                                      'speed': 100,\n",
      "                                                      'state': True}},\n",
      "    'VirtualBox Host-Only Network': {   'addr': {   'ip4': '192.168.56.1',\n",
      "                                                    'mac': '0A-00-27-00-00-0D',\n",
      "                                                    'mask': '255.255.255.0'},\n",
      "                                        'stats': {   'duplex': <NicDuplex.NIC_DUPLEX_FULL: 2>,\n",
      "                                                     'mtu': 1500,\n",
      "                                                     'speed': 1000,\n",
      "                                                     'state': True}},\n",
      "    'Wi-Fi': {   'addr': {   'ip4': '169.254.37.234',\n",
      "                             'mac': 'E8-4E-06-57-08-67',\n",
      "                             'mask': '255.255.0.0'},\n",
      "                 'stats': {   'duplex': <NicDuplex.NIC_DUPLEX_FULL: 2>,\n",
      "                              'mtu': 1500,\n",
      "                              'speed': 65,\n",
      "                              'state': False}}}\n"
     ]
    }
   ],
   "metadata": {}
  },
  {
   "cell_type": "code",
   "execution_count": 41,
   "source": [
    "ps.net_if_addrs()[iface]"
   ],
   "outputs": [
    {
     "output_type": "execute_result",
     "data": {
      "text/plain": [
       "[snicaddr(family=<AddressFamily.AF_LINK: -1>, address='E8-4E-06-57-08-67', netmask=None, broadcast=None, ptp=None),\n",
       " snicaddr(family=<AddressFamily.AF_INET: 2>, address='169.254.154.154', netmask='255.255.0.0', broadcast=None, ptp=None),\n",
       " snicaddr(family=<AddressFamily.AF_INET6: 23>, address='fe80::6cfa:e601:dacd:9a9a', netmask=None, broadcast=None, ptp=None)]"
      ]
     },
     "metadata": {},
     "execution_count": 41
    }
   ],
   "metadata": {}
  },
  {
   "cell_type": "code",
   "execution_count": 59,
   "source": [
    "ps.net_io_counters(pernic=True,nowrap=True)"
   ],
   "outputs": [
    {
     "output_type": "execute_result",
     "data": {
      "text/plain": [
       "{'Ethernet': snetio(bytes_sent=63069849, bytes_recv=7267290695, packets_sent=885743, packets_recv=196966, errin=0, errout=0, dropin=0, dropout=0),\n",
       " 'VirtualBox Host-Only Network': snetio(bytes_sent=0, bytes_recv=0, packets_sent=0, packets_recv=0, errin=0, errout=0, dropin=0, dropout=0),\n",
       " 'Local Area Connection* 1': snetio(bytes_sent=0, bytes_recv=0, packets_sent=0, packets_recv=0, errin=0, errout=0, dropin=0, dropout=0),\n",
       " 'Local Area Connection* 10': snetio(bytes_sent=0, bytes_recv=0, packets_sent=0, packets_recv=0, errin=0, errout=0, dropin=0, dropout=0),\n",
       " 'VMware Network Adapter VMnet1': snetio(bytes_sent=948, bytes_recv=0, packets_sent=948, packets_recv=0, errin=0, errout=0, dropin=0, dropout=0),\n",
       " 'VMware Network Adapter VMnet8': snetio(bytes_sent=811, bytes_recv=10, packets_sent=811, packets_recv=10, errin=0, errout=0, dropin=0, dropout=0),\n",
       " 'Wi-Fi': snetio(bytes_sent=0, bytes_recv=0, packets_sent=0, packets_recv=0, errin=0, errout=0, dropin=0, dropout=0),\n",
       " 'Loopback Pseudo-Interface 1': snetio(bytes_sent=0, bytes_recv=0, packets_sent=0, packets_recv=0, errin=0, errout=0, dropin=0, dropout=0)}"
      ]
     },
     "metadata": {},
     "execution_count": 59
    }
   ],
   "metadata": {}
  },
  {
   "cell_type": "code",
   "execution_count": 72,
   "source": [
    "# appending counter info\n",
    "\n",
    "for iface in ps.net_if_stats().keys():\n",
    "    stat  = ps.net_if_stats()[iface]\n",
    "    addr =  ps.net_if_addrs()[iface]\n",
    "    count = ps.net_io_counters(pernic=True)[iface]\n",
    "\n",
    "    nic_result[iface] = {\n",
    "        'stats': {\n",
    "            'state' : stat[0],\n",
    "            'duplex' : stat[1],\n",
    "            'speed' : stat[2],\n",
    "            'mtu': stat[3]\n",
    "        },\n",
    "        'addr': {\n",
    "            'mac' : addr[0][1],\n",
    "            'ip4' : addr[1][1],\n",
    "            'mask': addr[1][2]\n",
    "        },\n",
    "        'counter' : {\n",
    "            'byte' : { 'tx' : count[0], 'rx' : count[1]},\n",
    "            'packet' : { 'tx' : count[2], 'rx' : count[3]},\n",
    "            'error' : {'tx' : count[5], 'rx' : count[4]},\n",
    "            'drop' : { 'tx' : count[7], 'rx' : count[6] }\n",
    "        }\n",
    "    }"
   ],
   "outputs": [],
   "metadata": {}
  },
  {
   "cell_type": "code",
   "execution_count": 73,
   "source": [
    "pp.pprint(nic_result)"
   ],
   "outputs": [
    {
     "output_type": "stream",
     "name": "stdout",
     "text": [
      "{   'Ethernet': {   'addr': {   'ip4': '10.33.30.201',\n",
      "                                'mac': '38-D5-47-0F-78-22',\n",
      "                                'mask': '255.255.254.0'},\n",
      "                    'counter': {   'byte': {'rx': 7267866961, 'tx': 63359507},\n",
      "                                   'drop': {'rx': 0, 'tx': 0},\n",
      "                                   'error': {'rx': 0, 'tx': 0},\n",
      "                                   'packet': {'rx': 199256, 'tx': 886774}},\n",
      "                    'stats': {   'duplex': <NicDuplex.NIC_DUPLEX_FULL: 2>,\n",
      "                                 'mtu': 1468,\n",
      "                                 'speed': 1000,\n",
      "                                 'state': True}},\n",
      "    'Local Area Connection* 1': {   'addr': {   'ip4': '169.254.216.188',\n",
      "                                                'mac': 'EA-4E-06-57-08-67',\n",
      "                                                'mask': '255.255.0.0'},\n",
      "                                    'counter': {   'byte': {'rx': 0, 'tx': 0},\n",
      "                                                   'drop': {'rx': 0, 'tx': 0},\n",
      "                                                   'error': {'rx': 0, 'tx': 0},\n",
      "                                                   'packet': {   'rx': 0,\n",
      "                                                                 'tx': 0}},\n",
      "                                    'stats': {   'duplex': <NicDuplex.NIC_DUPLEX_FULL: 2>,\n",
      "                                                 'mtu': 1500,\n",
      "                                                 'speed': 0,\n",
      "                                                 'state': False}},\n",
      "    'Local Area Connection* 10': {   'addr': {   'ip4': '169.254.154.154',\n",
      "                                                 'mac': 'E8-4E-06-57-08-67',\n",
      "                                                 'mask': '255.255.0.0'},\n",
      "                                     'counter': {   'byte': {'rx': 0, 'tx': 0},\n",
      "                                                    'drop': {'rx': 0, 'tx': 0},\n",
      "                                                    'error': {'rx': 0, 'tx': 0},\n",
      "                                                    'packet': {   'rx': 0,\n",
      "                                                                  'tx': 0}},\n",
      "                                     'stats': {   'duplex': <NicDuplex.NIC_DUPLEX_FULL: 2>,\n",
      "                                                  'mtu': 1500,\n",
      "                                                  'speed': 0,\n",
      "                                                  'state': False}},\n",
      "    'Loopback Pseudo-Interface 1': {   'addr': {   'ip4': '::1',\n",
      "                                                   'mac': '127.0.0.1',\n",
      "                                                   'mask': None},\n",
      "                                       'counter': {   'byte': {   'rx': 0,\n",
      "                                                                  'tx': 0},\n",
      "                                                      'drop': {   'rx': 0,\n",
      "                                                                  'tx': 0},\n",
      "                                                      'error': {   'rx': 0,\n",
      "                                                                   'tx': 0},\n",
      "                                                      'packet': {   'rx': 0,\n",
      "                                                                    'tx': 0}},\n",
      "                                       'stats': {   'duplex': <NicDuplex.NIC_DUPLEX_FULL: 2>,\n",
      "                                                    'mtu': 1500,\n",
      "                                                    'speed': 1073,\n",
      "                                                    'state': True}},\n",
      "    'VMware Network Adapter VMnet1': {   'addr': {   'ip4': '169.254.77.182',\n",
      "                                                     'mac': '00-50-56-C0-00-01',\n",
      "                                                     'mask': '255.255.0.0'},\n",
      "                                         'counter': {   'byte': {   'rx': 0,\n",
      "                                                                    'tx': 966},\n",
      "                                                        'drop': {   'rx': 0,\n",
      "                                                                    'tx': 0},\n",
      "                                                        'error': {   'rx': 0,\n",
      "                                                                     'tx': 0},\n",
      "                                                        'packet': {   'rx': 0,\n",
      "                                                                      'tx': 966}},\n",
      "                                         'stats': {   'duplex': <NicDuplex.NIC_DUPLEX_FULL: 2>,\n",
      "                                                      'mtu': 1500,\n",
      "                                                      'speed': 100,\n",
      "                                                      'state': True}},\n",
      "    'VMware Network Adapter VMnet8': {   'addr': {   'ip4': '192.168.100.1',\n",
      "                                                     'mac': '00-50-56-C0-00-08',\n",
      "                                                     'mask': '255.255.255.0'},\n",
      "                                         'counter': {   'byte': {   'rx': 19,\n",
      "                                                                    'tx': 826},\n",
      "                                                        'drop': {   'rx': 0,\n",
      "                                                                    'tx': 0},\n",
      "                                                        'error': {   'rx': 0,\n",
      "                                                                     'tx': 0},\n",
      "                                                        'packet': {   'rx': 19,\n",
      "                                                                      'tx': 826}},\n",
      "                                         'stats': {   'duplex': <NicDuplex.NIC_DUPLEX_FULL: 2>,\n",
      "                                                      'mtu': 1500,\n",
      "                                                      'speed': 100,\n",
      "                                                      'state': True}},\n",
      "    'VirtualBox Host-Only Network': {   'addr': {   'ip4': '192.168.56.1',\n",
      "                                                    'mac': '0A-00-27-00-00-0D',\n",
      "                                                    'mask': '255.255.255.0'},\n",
      "                                        'counter': {   'byte': {   'rx': 0,\n",
      "                                                                   'tx': 0},\n",
      "                                                       'drop': {   'rx': 0,\n",
      "                                                                   'tx': 0},\n",
      "                                                       'error': {   'rx': 0,\n",
      "                                                                    'tx': 0},\n",
      "                                                       'packet': {   'rx': 0,\n",
      "                                                                     'tx': 0}},\n",
      "                                        'stats': {   'duplex': <NicDuplex.NIC_DUPLEX_FULL: 2>,\n",
      "                                                     'mtu': 1500,\n",
      "                                                     'speed': 1000,\n",
      "                                                     'state': True}},\n",
      "    'Wi-Fi': {   'addr': {   'ip4': '169.254.37.234',\n",
      "                             'mac': 'E8-4E-06-57-08-67',\n",
      "                             'mask': '255.255.0.0'},\n",
      "                 'counter': {   'byte': {'rx': 0, 'tx': 0},\n",
      "                                'drop': {'rx': 0, 'tx': 0},\n",
      "                                'error': {'rx': 0, 'tx': 0},\n",
      "                                'packet': {'rx': 0, 'tx': 0}},\n",
      "                 'stats': {   'duplex': <NicDuplex.NIC_DUPLEX_FULL: 2>,\n",
      "                              'mtu': 1500,\n",
      "                              'speed': 65,\n",
      "                              'state': False}}}\n"
     ]
    }
   ],
   "metadata": {}
  },
  {
   "cell_type": "code",
   "execution_count": 75,
   "source": [
    "def get_iface_info():\n",
    "    nic_result={}\n",
    "\n",
    "    for iface in ps.net_if_stats().keys():\n",
    "        stat  = ps.net_if_stats()[iface]\n",
    "        addr =  ps.net_if_addrs()[iface]\n",
    "        count = ps.net_io_counters(pernic=True)[iface]\n",
    "\n",
    "        nic_result[iface] = {\n",
    "            'stats': {\n",
    "                'state' : stat[0],\n",
    "                'duplex' : stat[1],\n",
    "                'speed' : stat[2],\n",
    "                'mtu': stat[3]\n",
    "            },\n",
    "            'addr': {\n",
    "                'mac' : addr[0][1],\n",
    "                'ip4' : addr[1][1],\n",
    "                'mask': addr[1][2]\n",
    "            },\n",
    "            'counter' : {\n",
    "                'byte' : { 'tx' : count[0], 'rx' : count[1]},\n",
    "                'packet' : { 'tx' : count[2], 'rx' : count[3]},\n",
    "                'error' : {'tx' : count[5], 'rx' : count[4]},\n",
    "                'drop' : { 'tx' : count[7], 'rx' : count[6] }\n",
    "            }\n",
    "        }\n",
    "\n",
    "    return nic_result"
   ],
   "outputs": [],
   "metadata": {}
  },
  {
   "cell_type": "code",
   "execution_count": 83,
   "source": [
    "'''\n",
    "def get_iface_info(iface):\n",
    "    addr = ps.net_if_addrs()[iface]\n",
    "    stats = ps.net_if_stats()[iface]\n",
    "    count = ps.net_io_counters(pernic=True,nowrap=True)[iface]\n",
    "    return {\n",
    "        'addr' : {\n",
    "            'ip': addr[1][1],\n",
    "            'mask': addr[1][2],\n",
    "            'mac': addr[0][1]\n",
    "        },\n",
    "        'stat' : {\n",
    "            'staus': stats[0],\n",
    "            'duplex': stats[1],\n",
    "            'speed':stats[2],\n",
    "            'mtu':stats[3],\n",
    "        },\n",
    "        'counter' : {\n",
    "            'byte' : { 'tx' : count[0], 'rx' : count[1]},\n",
    "            'packet' : { 'tx' : count[2], 'rx' : count[3]},\n",
    "            'error' : {'tx' : count[5], 'rx' : count[4]},\n",
    "            'drop' : { 'tx' : count[7], 'rx' : count[6] }\n",
    "        }\n",
    "    }\n",
    "''' "
   ],
   "outputs": [],
   "metadata": {}
  },
  {
   "cell_type": "code",
   "execution_count": 80,
   "source": [
    "%%time\n",
    "def get_util():\n",
    "    node_util = {\n",
    "        'cpu' : {\n",
    "            'util': get_cpu_util(),\n",
    "            'freq': get_cpu_freq(),\n",
    "            'core_count' : ps.cpu_count(),\n",
    "        },\n",
    "        'memory': get_mem_info(),\n",
    "        'network': get_iface_info()\n",
    "    }\n",
    "    return node_util"
   ],
   "outputs": [
    {
     "output_type": "stream",
     "name": "stdout",
     "text": [
      "Wall time: 0 ns\n"
     ]
    }
   ],
   "metadata": {}
  },
  {
   "cell_type": "code",
   "execution_count": 81,
   "source": [
    "%%time\n",
    "pp.pprint(get_util())"
   ],
   "outputs": [
    {
     "output_type": "stream",
     "name": "stdout",
     "text": [
      "{   'cpu': {   'core_count': 8,\n",
      "               'freq': {'current': 800.0, 'max': 4001.0, 'min': 0.0},\n",
      "               'util': {   'mean_util': 11.7375,\n",
      "                           'per_core_util': [   22.1,\n",
      "                                                3.1,\n",
      "                                                17.2,\n",
      "                                                6.2,\n",
      "                                                12.5,\n",
      "                                                12.5,\n",
      "                                                9.4,\n",
      "                                                10.9]}},\n",
      "    'memory': {'total_mb': 32639.1133, 'util': 37.7},\n",
      "    'network': {   'Ethernet': {   'addr': {   'ip4': '10.33.30.201',\n",
      "                                               'mac': '38-D5-47-0F-78-22',\n",
      "                                               'mask': '255.255.254.0'},\n",
      "                                   'counter': {   'byte': {   'rx': 7268223653,\n",
      "                                                              'tx': 63569619},\n",
      "                                                  'drop': {'rx': 0, 'tx': 0},\n",
      "                                                  'error': {'rx': 0, 'tx': 0},\n",
      "                                                  'packet': {   'rx': 200815,\n",
      "                                                                'tx': 887496}},\n",
      "                                   'stats': {   'duplex': <NicDuplex.NIC_DUPLEX_FULL: 2>,\n",
      "                                                'mtu': 1468,\n",
      "                                                'speed': 1000,\n",
      "                                                'state': True}},\n",
      "                   'Local Area Connection* 1': {   'addr': {   'ip4': '169.254.216.188',\n",
      "                                                               'mac': 'EA-4E-06-57-08-67',\n",
      "                                                               'mask': '255.255.0.0'},\n",
      "                                                   'counter': {   'byte': {   'rx': 0,\n",
      "                                                                              'tx': 0},\n",
      "                                                                  'drop': {   'rx': 0,\n",
      "                                                                              'tx': 0},\n",
      "                                                                  'error': {   'rx': 0,\n",
      "                                                                               'tx': 0},\n",
      "                                                                  'packet': {   'rx': 0,\n",
      "                                                                                'tx': 0}},\n",
      "                                                   'stats': {   'duplex': <NicDuplex.NIC_DUPLEX_FULL: 2>,\n",
      "                                                                'mtu': 1500,\n",
      "                                                                'speed': 0,\n",
      "                                                                'state': False}},\n",
      "                   'Local Area Connection* 10': {   'addr': {   'ip4': '169.254.154.154',\n",
      "                                                                'mac': 'E8-4E-06-57-08-67',\n",
      "                                                                'mask': '255.255.0.0'},\n",
      "                                                    'counter': {   'byte': {   'rx': 0,\n",
      "                                                                               'tx': 0},\n",
      "                                                                   'drop': {   'rx': 0,\n",
      "                                                                               'tx': 0},\n",
      "                                                                   'error': {   'rx': 0,\n",
      "                                                                                'tx': 0},\n",
      "                                                                   'packet': {   'rx': 0,\n",
      "                                                                                 'tx': 0}},\n",
      "                                                    'stats': {   'duplex': <NicDuplex.NIC_DUPLEX_FULL: 2>,\n",
      "                                                                 'mtu': 1500,\n",
      "                                                                 'speed': 0,\n",
      "                                                                 'state': False}},\n",
      "                   'Loopback Pseudo-Interface 1': {   'addr': {   'ip4': '::1',\n",
      "                                                                  'mac': '127.0.0.1',\n",
      "                                                                  'mask': None},\n",
      "                                                      'counter': {   'byte': {   'rx': 0,\n",
      "                                                                                 'tx': 0},\n",
      "                                                                     'drop': {   'rx': 0,\n",
      "                                                                                 'tx': 0},\n",
      "                                                                     'error': {   'rx': 0,\n",
      "                                                                                  'tx': 0},\n",
      "                                                                     'packet': {   'rx': 0,\n",
      "                                                                                   'tx': 0}},\n",
      "                                                      'stats': {   'duplex': <NicDuplex.NIC_DUPLEX_FULL: 2>,\n",
      "                                                                   'mtu': 1500,\n",
      "                                                                   'speed': 1073,\n",
      "                                                                   'state': True}},\n",
      "                   'VMware Network Adapter VMnet1': {   'addr': {   'ip4': '169.254.77.182',\n",
      "                                                                    'mac': '00-50-56-C0-00-01',\n",
      "                                                                    'mask': '255.255.0.0'},\n",
      "                                                        'counter': {   'byte': {   'rx': 0,\n",
      "                                                                                   'tx': 987},\n",
      "                                                                       'drop': {   'rx': 0,\n",
      "                                                                                   'tx': 0},\n",
      "                                                                       'error': {   'rx': 0,\n",
      "                                                                                    'tx': 0},\n",
      "                                                                       'packet': {   'rx': 0,\n",
      "                                                                                     'tx': 987}},\n",
      "                                                        'stats': {   'duplex': <NicDuplex.NIC_DUPLEX_FULL: 2>,\n",
      "                                                                     'mtu': 1500,\n",
      "                                                                     'speed': 100,\n",
      "                                                                     'state': True}},\n",
      "                   'VMware Network Adapter VMnet8': {   'addr': {   'ip4': '192.168.100.1',\n",
      "                                                                    'mac': '00-50-56-C0-00-08',\n",
      "                                                                    'mask': '255.255.255.0'},\n",
      "                                                        'counter': {   'byte': {   'rx': 25,\n",
      "                                                                                   'tx': 833},\n",
      "                                                                       'drop': {   'rx': 0,\n",
      "                                                                                   'tx': 0},\n",
      "                                                                       'error': {   'rx': 0,\n",
      "                                                                                    'tx': 0},\n",
      "                                                                       'packet': {   'rx': 25,\n",
      "                                                                                     'tx': 833}},\n",
      "                                                        'stats': {   'duplex': <NicDuplex.NIC_DUPLEX_FULL: 2>,\n",
      "                                                                     'mtu': 1500,\n",
      "                                                                     'speed': 100,\n",
      "                                                                     'state': True}},\n",
      "                   'VirtualBox Host-Only Network': {   'addr': {   'ip4': '192.168.56.1',\n",
      "                                                                   'mac': '0A-00-27-00-00-0D',\n",
      "                                                                   'mask': '255.255.255.0'},\n",
      "                                                       'counter': {   'byte': {   'rx': 0,\n",
      "                                                                                  'tx': 0},\n",
      "                                                                      'drop': {   'rx': 0,\n",
      "                                                                                  'tx': 0},\n",
      "                                                                      'error': {   'rx': 0,\n",
      "                                                                                   'tx': 0},\n",
      "                                                                      'packet': {   'rx': 0,\n",
      "                                                                                    'tx': 0}},\n",
      "                                                       'stats': {   'duplex': <NicDuplex.NIC_DUPLEX_FULL: 2>,\n",
      "                                                                    'mtu': 1500,\n",
      "                                                                    'speed': 1000,\n",
      "                                                                    'state': True}},\n",
      "                   'Wi-Fi': {   'addr': {   'ip4': '169.254.37.234',\n",
      "                                            'mac': 'E8-4E-06-57-08-67',\n",
      "                                            'mask': '255.255.0.0'},\n",
      "                                'counter': {   'byte': {'rx': 0, 'tx': 0},\n",
      "                                               'drop': {'rx': 0, 'tx': 0},\n",
      "                                               'error': {'rx': 0, 'tx': 0},\n",
      "                                               'packet': {'rx': 0, 'tx': 0}},\n",
      "                                'stats': {   'duplex': <NicDuplex.NIC_DUPLEX_FULL: 2>,\n",
      "                                             'mtu': 1500,\n",
      "                                             'speed': 65,\n",
      "                                             'state': False}}}}\n",
      "Wall time: 1.26 s\n"
     ]
    }
   ],
   "metadata": {}
  },
  {
   "cell_type": "code",
   "execution_count": 111,
   "source": [
    "import json\n",
    "b = str.encode(json.dumps(get_util(iface='Wi-Fi')))\n",
    "s = json.loads(bytes.decode(b))\n",
    "\n",
    "print(b,'\\n\\n',s)"
   ],
   "outputs": [
    {
     "output_type": "stream",
     "name": "stdout",
     "text": [
      "b'{\"cpu\": {\"util\": {\"per_core_util\": [10.8, 6.2, 21.5, 1.5, 12.3, 4.6, 6.2, 9.2], \"mean_util\": 9.0375}, \"freq\": {\"current\": 800.0, \"min\": 0.0, \"max\": 4001.0}, \"core_count\": 8}, \"memory\": {\"total_mb\": 32639.1133, \"util\": 36.5}, \"network\": {\"addr\": {\"ip\": \"136.148.146.86\", \"mask\": \"255.255.252.0\", \"mac\": \"E8-4E-06-57-08-67\"}, \"stat\": {\"staus\": true, \"duplex\": 2, \"speed\": 52, \"mtu\": 1500}, \"counter\": {\"byte\": {\"tx\": 1327943689, \"rx\": 2972065167}, \"packet\": {\"tx\": 996559, \"rx\": 2993648}, \"error\": {\"tx\": 0, \"rx\": 0}, \"drop\": {\"tx\": 0, \"rx\": 0}}}}' \n",
      "\n",
      " {'cpu': {'util': {'per_core_util': [10.8, 6.2, 21.5, 1.5, 12.3, 4.6, 6.2, 9.2], 'mean_util': 9.0375}, 'freq': {'current': 800.0, 'min': 0.0, 'max': 4001.0}, 'core_count': 8}, 'memory': {'total_mb': 32639.1133, 'util': 36.5}, 'network': {'addr': {'ip': '136.148.146.86', 'mask': '255.255.252.0', 'mac': 'E8-4E-06-57-08-67'}, 'stat': {'staus': True, 'duplex': 2, 'speed': 52, 'mtu': 1500}, 'counter': {'byte': {'tx': 1327943689, 'rx': 2972065167}, 'packet': {'tx': 996559, 'rx': 2993648}, 'error': {'tx': 0, 'rx': 0}, 'drop': {'tx': 0, 'rx': 0}}}}\n"
     ]
    }
   ],
   "metadata": {}
  },
  {
   "cell_type": "code",
   "execution_count": 91,
   "source": [
    "import time \n",
    "import random\n",
    "import threading\n",
    "import queue\n",
    "\n",
    "def f1(a,b):\n",
    "    time.sleep(random.randint(0,4))\n",
    "    print(a+b)\n",
    "    return a+b\n",
    "def f2(a,b):\n",
    "    time.sleep(random.randint(0,4))\n",
    "    print(a*b)\n",
    "    return a*b\n",
    "\n",
    "T = []\n",
    "R = {}\n",
    "Q = queue.Queue()\n",
    "T.append(threading.Thread(target=f1,args=(5,6,Q)))\n",
    "T.append(threading.Thread(target=f2,args=(5,6,Q)))\n",
    "\n",
    "for t in T:\n",
    "    t.start()\n",
    "    \n",
    "for t in T:\n",
    "    t.join()\n",
    "    \n",
    "'''    \n",
    "R['add'] = T[0].join()\n",
    "R['mul'] = T[1].join()\n",
    "'''\n",
    "print(R)\n"
   ],
   "outputs": [
    {
     "output_type": "stream",
     "name": "stdout",
     "text": [
      "3011\n",
      "\n",
      "None\n",
      "None\n",
      "{}\n"
     ]
    }
   ],
   "metadata": {}
  },
  {
   "cell_type": "code",
   "execution_count": 89,
   "source": [
    "R"
   ],
   "outputs": [
    {
     "output_type": "execute_result",
     "data": {
      "text/plain": [
       "{'add': None, 'mul': None}"
      ]
     },
     "metadata": {},
     "execution_count": 89
    }
   ],
   "metadata": {}
  },
  {
   "cell_type": "code",
   "execution_count": 2,
   "source": [
    "import pandas as pd"
   ],
   "outputs": [],
   "metadata": {}
  },
  {
   "cell_type": "code",
   "execution_count": 17,
   "source": [
    "hosts = pd.read_csv('Server/hosts.csv').transpose().to_dict()\n",
    "for k in hosts.keys():\n",
    "    print(hosts[k])\n"
   ],
   "outputs": [
    {
     "output_type": "stream",
     "name": "stdout",
     "text": [
      "{'host_ip': '192.168.0.104', ' port': 5000, ' username': 'rishi', ' passord': 'password', ' util_type': 'all', ' exit_iface': 'wlan0'}\n",
      "{'host_ip': '192.168.0.106', ' port': 5000, ' username': 'rishi', ' passord': 'password', ' util_type': 'all', ' exit_iface': 'wlan0'}\n",
      "{'host_ip': '192.168.0.107', ' port': 5000, ' username': 'rishi', ' passord': 'password', ' util_type': 'all', ' exit_iface': 'wlan0'}\n"
     ]
    }
   ],
   "metadata": {}
  },
  {
   "cell_type": "code",
   "execution_count": 5,
   "source": [
    "pd.read_csv('Server/hosts.csv').to_dict()"
   ],
   "outputs": [
    {
     "output_type": "execute_result",
     "data": {
      "text/plain": [
       "{'host_ip': {0: '192.168.0.104', 1: '192.168.0.106', 2: '192.168.0.107'},\n",
       " ' port': {0: 5000, 1: 5000, 2: 5000},\n",
       " ' username': {0: 'rishi', 1: 'rishi', 2: 'rishi'},\n",
       " ' passord': {0: 'password', 1: 'password', 2: 'password'},\n",
       " ' util_type': {0: 'all', 1: 'all', 2: 'all'},\n",
       " ' exit_iface': {0: 'wlan0', 1: 'wlan0', 2: 'wlan0'}}"
      ]
     },
     "metadata": {},
     "execution_count": 5
    }
   ],
   "metadata": {}
  },
  {
   "cell_type": "code",
   "execution_count": 23,
   "source": [
    "hosts_dict = pd.read_csv('Server/hosts.csv').transpose().to_dict()\n",
    "    \n",
    "hosts=[]\n",
    "for k in hosts_dict.keys():\n",
    "    hosts.append(hosts_dict[k])\n",
    "\n",
    "pp.pprint(hosts)"
   ],
   "outputs": [
    {
     "output_type": "stream",
     "name": "stdout",
     "text": [
      "[   {   ' exit_iface': 'wlan0',\n",
      "        ' passord': 'password',\n",
      "        ' port': 5000,\n",
      "        ' username': 'rishi',\n",
      "        ' util_type': 'all',\n",
      "        'host_ip': '192.168.0.104'},\n",
      "    {   ' exit_iface': 'wlan0',\n",
      "        ' passord': 'password',\n",
      "        ' port': 5000,\n",
      "        ' username': 'rishi',\n",
      "        ' util_type': 'all',\n",
      "        'host_ip': '192.168.0.106'},\n",
      "    {   ' exit_iface': 'wlan0',\n",
      "        ' passord': 'password',\n",
      "        ' port': 5000,\n",
      "        ' username': 'rishi',\n",
      "        ' util_type': 'all',\n",
      "        'host_ip': '192.168.0.101'},\n",
      "    {   ' exit_iface': 'wlan0',\n",
      "        ' passord': 'password',\n",
      "        ' port': 5000,\n",
      "        ' username': 'rishi',\n",
      "        ' util_type': 'all',\n",
      "        'host_ip': '192.168.0.107'}]\n"
     ]
    }
   ],
   "metadata": {}
  },
  {
   "cell_type": "code",
   "execution_count": null,
   "source": [],
   "outputs": [],
   "metadata": {}
  }
 ],
 "metadata": {
  "kernelspec": {
   "name": "python3",
   "display_name": "Python 3.8.10 64-bit"
  },
  "language_info": {
   "codemirror_mode": {
    "name": "ipython",
    "version": 3
   },
   "file_extension": ".py",
   "mimetype": "text/x-python",
   "name": "python",
   "nbconvert_exporter": "python",
   "pygments_lexer": "ipython3",
   "version": "3.8.10"
  },
  "interpreter": {
   "hash": "916dbcbb3f70747c44a77c7bcd40155683ae19c65e1c03b4aa3499c5328201f1"
  }
 },
 "nbformat": 4,
 "nbformat_minor": 5
}